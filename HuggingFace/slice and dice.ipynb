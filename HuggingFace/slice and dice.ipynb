{
 "cells": [
  {
   "cell_type": "code",
   "execution_count": 2,
   "metadata": {},
   "outputs": [],
   "source": [
    "from datasets import load_dataset\n",
    "\n",
    "url = \"https://github.com/crux82/squad-it/raw/master/\"\n",
    "data_files = {\n",
    "    \"train\": url + \"SQuAD_it-train.json.gz\",\n",
    "    \"test\": url + \"SQuAD_it-test.json.gz\",\n",
    "}\n",
    "squad_it_dataset = load_dataset(\"json\", data_files=data_files, field=\"data\")\n"
   ]
  },
  {
   "cell_type": "code",
   "execution_count": 7,
   "metadata": {},
   "outputs": [
    {
     "name": "stdout",
     "output_type": "stream",
     "text": [
      "Dataset({\n",
      "    features: ['title', 'paragraphs'],\n",
      "    num_rows: 5\n",
      "})\n"
     ]
    }
   ],
   "source": [
    "#shuffle shuffles the pll\n",
    "sample = squad_it_dataset[\"train\"].shuffle().select(range(5))\n",
    "print(sample)"
   ]
  },
  {
   "cell_type": "code",
   "execution_count": 11,
   "metadata": {},
   "outputs": [
    {
     "name": "stdout",
     "output_type": "stream",
     "text": [
      "Dataset({\n",
      "    features: ['title', 'paragraphs'],\n",
      "    num_rows: 5\n",
      "})\n",
      "{'title': 'Lavoro infantile', 'paragraphs': [{'context': \"Il lavoro minorile si riferisce all' impiego di bambini in qualsiasi lavoro che priva i bambini della loro infanzia, interferisce con la loro capacità di frequentare una scuola regolare, e ciò è mentalmente, fisicamente, fisicamente, socialmente o moralmente pericoloso e dannoso. Questa pratica è considerata uno sfruttamento da molte organizzazioni internazionali. La legislazione mondiale vieta il lavoro minorile. Queste leggi non considerano tutti i lavori dei bambini come lavoro minorile; le eccezioni includono il lavoro dei bambini artisti, i doveri familiari, la formazione supervisionata, alcune categorie di lavoro come quelle dei bambini Amish, alcune forme di lavoro minorile comuni tra i bambini indigeni americani e altre.\", 'qas': [{'answers': [{'answer_start': 80, 'text': 'priva i bambini della loro infanzia'}], 'id': '57275b0a5951b619008f88a7', 'question': 'Che cosa sottrae i bambini al lavoro minorile?'}, {'answers': [{'answer_start': 418, 'text': 'Queste leggi non considerano tutti i lavori dei bambini come lavoro minorile'}], 'id': '57275b0a5951b619008f88ab', 'question': 'Tutto il lavoro svolto dai bambini è considerato lavoro minorile?'}]}, {'context': \"Nei paesi in via di sviluppo, caratterizzati da povertà elevata e scarse opportunità di scolarizzazione, il lavoro minorile è ancora prevalente. Nel 2010, l' Africa sub-sahariana ha registrato i tassi di incidenza più elevati di lavoro minorile, con diverse nazioni africane che hanno visto oltre il 50% dei bambini dai 5 ai 14 anni che lavorano. L' agricoltura mondiale è il principale datore di lavoro del lavoro minorile. La maggior parte del lavoro minorile si trova in contesti rurali e nell' economia urbana informale; i bambini sono impiegati prevalentemente dai genitori, piuttosto che dalle fabbriche. La povertà e la mancanza di scuole sono considerate la causa primaria del lavoro minorile.\", 'qas': [{'answers': [{'answer_start': 149, 'text': '2010'}], 'id': '57275c0c5951b619008f88b1', 'question': \"Quale anno l' Africa subsahariana ha registrato i tassi più elevati di lavoro minorile?\"}, {'answers': [{'answer_start': 350, 'text': 'agricoltura'}], 'id': '57275c0c5951b619008f88b2', 'question': 'Qual è il maggiore datore di lavoro per quanto riguarda il lavoro minorile?'}, {'answers': [{'answer_start': 48, 'text': 'povertà'}], 'id': '57275c0c5951b619008f88b4', 'question': 'Mancanza di scuola e questa è la causa primaria del lavoro minorile?'}]}, {'context': \"Il lavoro dei bambini era importante nelle società preindustriali, in quanto i bambini avevano bisogno di provvedere al loro lavoro per la sopravvivenza e quella del loro gruppo. Le società preindustriali erano caratterizzate da una bassa produttività e da un' aspettativa di vita breve, impedendo ai bambini di partecipare a lavori produttivi sarebbe stato più dannoso per il loro benessere e quello del loro gruppo a lungo termine. Nelle società pre-industriali, i bambini non avevano bisogno di frequentare la scuola. Ciò vale in particolare per le società non alfabetiche. La maggior parte delle abilità e conoscenze pre-industriali erano suscettibili di essere tramandate attraverso il tutoraggio diretto o l' apprendistato da adulti competenti.\", 'qas': [{'answers': [{'answer_start': 440, 'text': 'società pre-industriali'}], 'id': '57275cfcf1498d1400e8f6ec', 'question': \"C' è stato un periodo in cui il lavoro minorile era essenziale?\"}, {'answers': [{'answer_start': 732, 'text': 'adulti competenti'}], 'id': '57275cfcf1498d1400e8f6ee', 'question': 'Chi ha insegnato le competenze necessarie affinché i bambini possano lavorare?'}]}, {'context': \"L' epoca vittoriana in particolare divenne famoso per le condizioni in cui i bambini erano impiegati. Bambini fino a quattro anni erano impiegati in fabbriche di produzione e miniere che lavoravano per lunghe ore in condizioni di lavoro pericolose, spesso mortali. Nelle miniere di carbone, i bambini strisciano in gallerie troppo strette e basse per gli adulti. I bambini hanno anche lavorato come ragazzi errand, attraversando spazzatrici, scarpe neri, o vendere fiammiferi, fiori e altri beni a buon mercato. Alcuni bambini hanno iniziato a lavorare come apprendisti per i mestieri rispettabili, come l' edilizia o come domestici (oltre 120.000 domestici a Londra verso la metà del 18° secolo). L' orario di lavoro era lungo: i costruttori lavoravano 64 ore settimanali in estate e 52 in inverno, mentre i dipendenti domestici lavoravano 80 ore settimanali.\", 'qas': [{'answers': [{'answer_start': 841, 'text': '80'}], 'id': '57275ec9dd62a815002e9bba', 'question': 'In media, quante ore settimanali ha impiegato un dipendente domestico?'}, {'answers': [{'answer_start': 117, 'text': 'quattro'}], 'id': '57275ec9dd62a815002e9bbc', 'question': \"Qual era l' età più giovane di un bambino che lavorava in una fabbrica?\"}, {'answers': [{'answer_start': 785, 'text': '52'}], 'id': '57275ec9dd62a815002e9bbd', 'question': 'Quante ore hanno lavorato i costruttori in inverno?'}]}, {'context': \"Il lavoro minorile ha svolto fin dall' inizio un ruolo importante nella rivoluzione industriale, spesso causata da difficoltà economiche. Ci si aspettava che i figli dei poveri contribuissero al loro reddito familiare. Nel XIX secolo, in Gran Bretagna, un terzo delle famiglie povere era privo di sostentamento a causa della morte o dell' abbandono, costringendo molti bambini a lavorare fin dalla più tenera età. In Inghilterra e Scozia nel 1788, due terzi dei lavoratori di 143 cotonifici alimentati ad acqua sono stati descritti come bambini. Anche un alto numero di bambini ha lavorato come prostitute. L' autore Charles Dickens lavorò all' età di 12 anni in una fabbrica nera, con la sua famiglia nella prigione del debitore.\", 'qas': [{'answers': [{'answer_start': 253, 'text': 'un terzo'}], 'id': '57276019dd62a815002e9bc4', 'question': 'Quante famiglie non hanno vinto il pane?'}, {'answers': [{'answer_start': 476, 'text': '143'}], 'id': '57276019dd62a815002e9bc5', 'question': 'Quanti cotonifici ad acqua utilizzavano il lavoro minorile nel 1788 in Inghilterra e Scozia?'}, {'answers': [{'answer_start': 115, 'text': 'difficoltà economiche'}], 'id': '57276019dd62a815002e9bc8', 'question': 'Durante la rivoluzione industriale qual è stata la principale forza trainante del lavoro minorile?'}]}, {'context': 'Durante tutta la seconda metà del XIX secolo, il lavoro minorile ha iniziato a diminuire nelle società industrializzate a causa della regolamentazione e dei fattori economici. La regolamentazione del lavoro minorile è iniziata fin dai primi giorni della rivoluzione industriale. La prima legge per regolamentare il lavoro minorile in Gran Bretagna è stata approvata nel 1803. Già nel 1802 e 1819 le leggi di fabbrica sono stati passati per regolare l\\' orario di lavoro dei bambini casa di lavoro in fabbriche e cotonifici a 12 ore al giorno. Questi atti erano in gran parte inefficaci e, dopo una radicale agitazione, ad esempio i \"comitati di breve durata\" del 1831, una commissione reale raccomandò nel 1833 che i bambini di età compresa tra 11 e 18 anni lavorassero al massimo 12 ore al giorno, i bambini di età compresa tra 9 e 11 anni al massimo 8 ore e i bambini di età inferiore ai nove anni non potevano più lavorare. Questo atto tuttavia si applicava solo all\\' industria tessile, e un ulteriore agitazione portò nel 1847 ad un\\' altra legge che limitava sia gli adulti che i bambini a 10 ore di lavoro giornaliere. Lord Shaftesbury era un convinto sostenitore della regolamentazione del lavoro minorile.', 'qas': [{'answers': [{'answer_start': 1123, 'text': 'Lord Shaftesbury'}], 'id': '572761fe5951b619008f8917', 'question': \"Durante il XIX secolo c' erano dei sostenitori per i bambini lavoratori?\"}, {'answers': [{'answer_start': 1025, 'text': '1847'}], 'id': '572761fe5951b619008f8919', 'question': 'Che anno erano adulti e bambini in grado di lavorare solo 10 ore al giorno?'}, {'answers': [{'answer_start': 370, 'text': '1803'}], 'id': '572761fe5951b619008f891b', 'question': 'Quale anno il Regno Unito ha adottato per la prima volta una legislazione in materia di lavoro minorile?'}]}, {'context': \"All' inizio del XX secolo, migliaia di ragazzi erano impiegati nell' industria del vetro. La produzione del vetro era un lavoro pericoloso e duro, soprattutto senza le attuali tecnologie. Il processo di fabbricazione del vetro comprende il calore intenso per fondere il vetro (3133 °F). Quando i ragazzi sono al lavoro, sono esposti a questo calore. Ciò potrebbe causare problemi agli occhi, disturbi ai polmoni, esaurimento del calore, taglio e ustioni. Dal momento che i lavoratori sono stati pagati dal pezzo, hanno dovuto lavorare in modo produttivo per ore senza interruzioni. Dal momento che i forni dovevano essere costantemente bruciati, c' erano turni di notte dalle 17:00 alle 3:00 del mattino. Molti proprietari di fabbrica preferivano ragazzi sotto i 16 anni.\", 'qas': [{'answers': [{'answer_start': 0, 'text': \"All' inizio del XX secolo\"}], 'id': '57276683dd62a815002e9c34', 'question': \"Quando erano i ragazzi giovani impiegati nell' industria del vetro?\"}, {'answers': [{'answer_start': 320, 'text': 'sono esposti a questo calore'}], 'id': '57276683dd62a815002e9c35', 'question': 'In condizioni di lavorazione del vetro i bambini sono stati esposti a qualsiasi elemento riscaldante?'}, {'answers': [{'answer_start': 709, 'text': 'i proprietari di fabbrica preferivano ragazzi sotto i 16 anni'}], 'id': '57276683dd62a815002e9c37', 'question': \"L' industria del vetro ha avuto una preferenza per i ragazzi più anziani?\"}]}, {'context': 'Nel 1910, oltre 2 milioni di bambini dello stesso gruppo di età erano occupati negli Stati Uniti. Tra questi vi erano bambini che si arrotolavano sigarette, lavoravano in fabbrica, lavoravano come bobine in mulini tessili, lavoravano nelle miniere di carbone e venivano impiegati in industrie conserviere. Le fotografie di Lewis Hine sugli operai dei bambini nel 1910 evocarono con forza la condizione dei bambini lavoratori nel sud americano. Hines ha scattato queste fotografie tra il 1908 e il 1917 come fotografo del personale del Comitato nazionale per il lavoro minorile.', 'qas': [{'answers': [{'answer_start': 535, 'text': 'Comitato nazionale per il lavoro minorile'}], 'id': '5727672bf1498d1400e8f782', 'question': 'Dove è stato impiegato il fotografo Lewis Hine?'}, {'answers': [{'answer_start': 4, 'text': '1910'}], 'id': '5727672bf1498d1400e8f783', 'question': 'Quale anno sono stati oltre 2 milioni di bambini occupati negli Stati Uniti?'}, {'answers': [{'answer_start': 146, 'text': 'sigarette'}], 'id': '5727672bf1498d1400e8f784', 'question': 'Cosa hanno fatto i bambini rotolare in una fabbrica?'}]}, {'context': \"Le fabbriche e le miniere non erano gli unici luoghi in cui il lavoro minorile era prevalente all' inizio del XX secolo. Anche la produzione domestica negli Stati Uniti e in Europa impiegava bambini. I governi e i riformatori hanno sostenuto che il lavoro nelle fabbriche deve essere regolamentato e lo Stato ha l' obbligo di fornire assistenza ai poveri. La successiva legislazione ha avuto l' effetto di spostare il lavoro dalle fabbriche alle abitazioni urbane. Le famiglie e le donne, in particolare, l' hanno preferita perché ha permesso loro di generare reddito e di occuparsi dei doveri familiari.\", 'qas': []}, {'context': 'Le attività di produzione a casa erano attive tutto l\\' anno. Le famiglie dispiegate volentieri i loro figli in queste imprese che generano reddito casa imprese. In molti casi, gli uomini lavoravano da casa. In Francia, oltre il 58 per cento dei lavoratori dell\\' abbigliamento operava fuori casa; in Germania, il numero di operazioni domestiche a tempo pieno è quasi raddoppiato tra il 1882 e il 1907; negli Stati Uniti, milioni di famiglie operavano fuori casa sette giorni su sette, tutto l\\' anno, per produrre indumenti, scarpe, fiori artificiali, piume, scatole da fiammifero, giocattoli, ombrelloni e altri prodotti. I bambini dai 5 ai 14 anni lavoravano a fianco dei genitori. Operazioni domiciliari e lavoro minorile in Australia, Gran Bretagna, Austria e altre parti del mondo erano comuni. Analogamente, le zone rurali hanno visto famiglie che impiegavano i propri figli in agricoltura. Nel 1946, Frieda Miller - allora direttore del Dipartimento del Lavoro degli Stati Uniti - disse all\\' Organizzazione Internazionale del Lavoro che queste operazioni a domicilio offrivano \"bassi salari, lunghe ore di lavoro, lavoro minorile, condizioni di lavoro malsane e insalubri\".', 'qas': [{'answers': [{'answer_start': 46, 'text': \"tutto l' anno\"}], 'id': '57276a47708984140094dd21', 'question': 'Che tempo si svolgevano le attività di produzione a casa per i bambini?'}, {'answers': [{'answer_start': 672, 'text': 'genitori'}], 'id': '57276a47708984140094dd22', 'question': 'Chi hanno lavorato accanto ai bambini?'}, {'answers': [{'answer_start': 882, 'text': 'agricoltura'}], 'id': '57276a47708984140094dd23', 'question': 'Dove erano occupati i bambini rurali?'}, {'answers': [{'answer_start': 905, 'text': 'Frieda Miller'}], 'id': '57276a47708984140094dd25', 'question': 'Nel 1946 chi era il direttore del Dipartimento del Lavoro degli Stati Uniti?'}]}, {'context': \"Il lavoro minorile è ancora comune in molte parti del mondo. Le stime relative al lavoro minorile variano. L' importo varia tra 250 e 304 milioni, se si considerano i bambini di età compresa tra i 5 e i 17 anni coinvolti in qualsiasi attività economica. Se si esclude il lavoro occasionale leggero, secondo le stime dell' OIL nel 2008 vi erano 153 milioni di lavoratori minori di età compresa tra i 5 e i 14 anni in tutto il mondo. Si tratta di circa 20 milioni in meno rispetto alle stime dell' OIL per i lavoratori minori nel 2004. Circa il 60 per cento del lavoro minorile era impiegato in attività agricole quali l' agricoltura, i prodotti lattiero-caseari, la pesca e la silvicoltura. Un altro 25 per cento dei bambini operai erano in attività di servizio come la vendita al dettaglio, hawking merci, ristoranti, il carico e il trasferimento di merci, stoccaggio, raccolta e riciclaggio rifiuti, scarpe di lucidatura, aiuto domestico, e altri servizi. Il restante 15 per cento si dedicava all' assemblaggio e alla produzione in economia informale, alle imprese a domicilio, alle fabbriche, alle miniere, al sale da imballaggio, alle macchine operatrici e a tali operazioni. Due lavoratrici su tre lavorano accanto ai genitori, in situazioni di lavoro familiare non retribuito. Alcuni bambini lavorano come guide turistiche, a volte in combinazione con attività commerciali per negozi e ristoranti. Il lavoro minorile si svolge prevalentemente nelle zone rurali (70%) e nel settore urbano informale (26%).\", 'qas': [{'answers': [{'answer_start': 0, 'text': 'Il lavoro minorile è ancora comune'}], 'id': '57276ccff1498d1400e8f7c4', 'question': 'Il lavoro minorile esiste nel XXI secolo?'}, {'answers': [{'answer_start': 1454, 'text': 'zone rurali'}], 'id': '57276ccff1498d1400e8f7c5', 'question': 'Dove avviene attualmente il lavoro minorile più frequente?'}, {'answers': [{'answer_start': 1317, 'text': 'turisti'}], 'id': '57276ccff1498d1400e8f7c7', 'question': 'Un bambino lavora come guida per chi?'}]}, {'context': \"Il lavoro minorile rappresenta il 22% della forza lavoro in Asia, il 32% in Africa, il 17% in America Latina, l' 1% negli Stati Uniti, in Canada, in Europa e in altre nazioni ricche. La percentuale di lavoratori minori varia notevolmente tra i paesi e persino tra le regioni all' interno di tali paesi. L' Africa ha la percentuale più alta di bambini tra i 5 e i 17 anni occupati come lavoro minorile, per un totale di oltre 65 milioni. L' Asia, con la sua popolazione più numerosa, ha il maggior numero di bambini occupati come lavoro minorile, pari a circa 114 milioni. L' America Latina e la regione caraibica hanno una densità demografica complessiva più bassa, ma con 14 milioni di bambini lavoratori ha anche un' incidenza elevata.\", 'qas': [{'answers': [{'answer_start': 76, 'text': 'Africa'}], 'id': '57276ed9708984140094dd65', 'question': 'Quale paese ha la percentuale più alta di lavoro minorile?'}, {'answers': [{'answer_start': 559, 'text': '114'}], 'id': '57276ed9708984140094dd66', 'question': 'In Asia quanti milioni di bambini sono occupati?'}, {'answers': [{'answer_start': 113, 'text': '1%'}], 'id': '57276ed9708984140094dd67', 'question': 'In questo momento quale percentuale di bambini sono occupati negli Stati Uniti?'}, {'answers': [{'answer_start': 94, 'text': 'America Latina'}], 'id': '57276ed9708984140094dd68', 'question': \"Caribe e dove c' è una bassa popolazione di lavoratori minori?\"}]}, {'context': 'L\\' accuratezza delle informazioni attuali sul lavoro minorile è difficile da ottenere a causa dei disaccordi tra le fonti di dati su ciò che costituisce lavoro minorile. In alcuni paesi, la politica governativa contribuisce a questa difficoltà. Ad esempio, la portata complessiva del lavoro minorile in Cina non è chiara a causa del fatto che il governo ha classificato i dati sul lavoro minorile come \"altamente segreti\". La Cina ha emanato regolamenti per prevenire il lavoro minorile; ancora, la pratica del lavoro minorile è segnalata come un problema persistente all\\' interno della Cina, in generale nei settori dell\\' agricoltura e dei servizi a bassa qualifica, nonché nei piccoli laboratori e nelle imprese manifatturiere. Nel 2014, il Dipartimento del Lavoro degli Stati Uniti ha pubblicato un elenco dei beni prodotti dal lavoro minorile o forzato dove alla Cina sono stati attribuiti 12 beni, la maggior parte dei quali prodotti sia da bambini minorenni che da operai. La relazione elencava elettronica, indumenti, giocattoli e carbone tra gli altri beni.', 'qas': [{'answers': [{'answer_start': 303, 'text': 'Cina'}], 'id': '57276fdb5951b619008f89d7', 'question': 'Dove sono ancora poco chiare le statistiche attuali sul lavoro minorile?'}, {'answers': [{'answer_start': 734, 'text': '2014'}], 'id': '57276fdb5951b619008f89d8', 'question': 'Quando sono stati gli Stati Uniti a produrre un elenco di beni prodotti principalmente dal lavoro minorile in Cina?'}, {'answers': [{'answer_start': 116, 'text': 'fonti di dati'}], 'id': '57276fdb5951b619008f89d9', 'question': \"Qual è la causa dei diagreements nel lavoro minorile numero di lavoro per il giorno d' oggi?\"}, {'answers': [{'answer_start': 1014, 'text': 'indumenti'}], 'id': '57276fdb5951b619008f89da', 'question': \"Bambini cinesi sono stati conosciuti per fare elettronica, giocattoli e cos' altro?\"}]}, {'context': \"Il sondaggio Maplecroft Child Labour Index 2012 riferisce che 76 paesi presentano rischi estremi di complicità nel lavoro minorile per le aziende che operano in tutto il mondo. I dieci paesi a più alto rischio nel 2012, classificati in ordine decrescente, sono stati: Myanmar, Corea del Nord, Somalia, Sudan, RD Congo, Zimbabwe, Afghanistan, Burundi, Pakistan ed Etiopia. Tra le principali economie in crescita, Maplecroft ha classificato le Filippine al 25° posto tra le più rischiose, l' India al 27° posto, la Cina al 36°, il Vietnam al 37°, l' Indonesia al 46° e il Brasile al 54°, tutte classificate come comportanti rischi estremi di incertezza sul lavoro minorile, per le imprese che cercano di investire nei paesi in via di sviluppo e importare prodotti dai mercati emergenti.\", 'qas': [{'answers': [{'answer_start': 62, 'text': '76'}], 'id': '5727708f708984140094dd9b', 'question': 'Secondo il Maplecroft Child Labour Index quanti paesi presentano rischi per il lavoro minorile?'}, {'answers': [{'answer_start': 277, 'text': 'Corea del Nord'}], 'id': '5727708f708984140094dd9c', 'question': \"Qual è il secondo paese dell' elenco del lavoro minorile secondo l' indice Maplecroft del lavoro minorile?\"}, {'answers': [{'answer_start': 455, 'text': '25°'}], 'id': '5727708f708984140094dd9d', 'question': 'Come sono state classificate le Phillipines?'}]}, {'context': \"La mancanza di alternative significative, come scuole a prezzi accessibili e un' istruzione di qualità, secondo l' OIL, è un altro fattore importante che spinge i bambini a lavorare in modo dannoso. I bambini lavorano perché non hanno niente di meglio da fare. Molte comunità, in particolare le zone rurali dove il 60-70% del lavoro minorile è prevalente, non dispongono di strutture scolastiche adeguate. Anche quando le scuole sono a volte disponibili, sono troppo lontane, difficili da raggiungere, non accessibili o la qualità dell' istruzione è così scarsa che i genitori si chiedono se sia davvero valsa la pena andare a scuola.\", 'qas': [{'answers': [{'answer_start': 235, 'text': 'niente di meglio da fare'}], 'id': '572772395951b619008f8a25', 'question': 'Qual è la ragione principale per cui i bambini oggi sono presenti nella forza lavoro?'}]}, {'context': \"Nella storia europea, quando il lavoro minorile era comune, così come nel lavoro minorile contemporaneo del mondo moderno, alcune convinzioni culturali hanno razionalizzato il lavoro minorile e lo hanno incoraggiato. Alcuni ritengono che il lavoro sia utile per la costruzione del carattere e lo sviluppo delle abilità dei bambini. In molte culture, in particolare dove l' economia informale e le piccole imprese domestiche prosperano, la tradizione culturale è che i bambini seguano le orme dei genitori; il lavoro minorile è quindi un mezzo per imparare e praticare quel commercio fin dalla più tenera età. Analogamente, in molte culture l' istruzione delle bambine è meno apprezzata o le ragazze non hanno semplicemente bisogno di una scolarizzazione formale e queste ragazze sono spinte verso il lavoro minorile, come la fornitura di servizi domestici.\", 'qas': [{'answers': [{'answer_start': 217, 'text': 'Alcuni ritengono che il lavoro sia utile per la costruzione del carattere e lo sviluppo delle abilità dei bambini'}], 'id': '572774cedd62a815002e9d38', 'question': 'Nel corso della storia europea il lavoro minorile è stato considerato positivo?'}, {'answers': [{'answer_start': 691, 'text': 'ragazze'}], 'id': '572774cedd62a815002e9d39', 'question': 'In alcune culture è più probabile che i ragazzi o le ragazze siano gettati nel lavoro minorile?'}]}, {'context': \"Biggeri e Mehrotra hanno studiato i fattori macroeconomici che incoraggiano il lavoro minorile. Essi concentrano il loro studio su cinque nazioni asiatiche tra cui India, Pakistan, Indonesia, Thailandia e Filippine. Essi suggeriscono che il lavoro minorile è un problema serio in tutti e cinque i casi, ma non si tratta di un problema nuovo. Le cause macroeconomiche hanno incoraggiato il lavoro minorile diffuso in tutto il mondo, in gran parte della storia umana. Essi suggeriscono che le cause del lavoro minorile comprendono sia la domanda che l' offerta. Sebbene la povertà e l' indisponibilità di buone scuole spieghino il lato dell' offerta di lavoro minorile, essi suggeriscono che la crescita dell' economia informale a basso salario piuttosto che di un' economia formale a retribuzione più elevata è una delle cause della domanda. Anche altri studiosi suggeriscono che l' inflessibilità del mercato del lavoro, la serenità dell' economia sommersa, l' incapacità delle industrie di espandersi e la mancanza di moderne tecnologie manifatturiere sono fattori macroeconomici importanti che influenzano la domanda e l' accettabilità del lavoro minorile.\", 'qas': [{'answers': [{'answer_start': 192, 'text': 'Thailandia'}], 'id': '57277611708984140094de3f', 'question': 'Biggeri e Mehrotra hanno studiato principalmente nazioni asiatiche tra cui India, Pakistan, Indonesia, Filippine e che altro paese?'}, {'answers': [{'answer_start': 536, 'text': 'domanda'}], 'id': '57277611708984140094de41', 'question': \"L' offerta e che cosa fa sì che il lavoro minorile esista ancora oggi?\"}]}, {'context': 'L\\' uso sistematico del lavoro minorile era un posto comune nelle colonie delle potenze europee tra il 1650 e il 1950. In Africa, gli amministratori coloniali hanno incoraggiato i modi di produzione tradizionali, ordinati per parenti, che assumono una famiglia per lavorare non solo gli adulti. Milioni di bambini lavoravano in piantagioni agricole coloniali, miniere e industrie di servizi domestici. Programmi sofisticati sono stati promulgati dove i bambini in queste colonie tra i 5-14 anni sono stati assunti come apprendisti senza stipendio in cambio dell\\' apprendimento di un mestiere. Un sistema di Pauper Apprendistato è entrato in pratica nel XIX secolo, quando il padrone coloniale non aveva bisogno né dell\\' approvazione dei genitori nativi né di quella dei figli per assegnare un bambino al lavoro, lontano dai genitori, in una lontana fattoria di proprietà di un altro padrone coloniale. Tra gli altri programmi figuravano programmi di \"retribuzione e apprendimento\" in cui i bambini avrebbero lavorato e quindi imparato. La Gran Bretagna, ad esempio, ha approvato una legge, la cosiddetta legge sui padroni e i servitori del 1899, seguita dalla legge sulle tasse e sui lasciapassare, per incoraggiare il lavoro minorile nelle colonie, in particolare in Africa. Queste leggi offrirono ai nativi la proprietà legale di alcune delle terre autoctone in cambio di rendere il lavoro di moglie e figli disponibile alle necessità del governo coloniale, come nelle fattorie e come picannini.', 'qas': [{'answers': [{'answer_start': 112, 'text': '19'}], 'id': '57277a21f1498d1400e8f926', 'question': \"Quale secolo ha avuto inizio con l' apprendistato?\"}]}, {'context': 'Nelle colonie del sud-est asiatico, come Hong Kong, il lavoro minorile come il Mui Tsai (??) è stato razionalizzato come tradizione culturale e ignorato dalle autorità britanniche. I funzionari della società olandese East India Company razionalizzato i loro abusi del lavoro minorile con,\"è un modo per salvare questi bambini da un destino peggiore\". Le scuole missionarie cristiane nelle regioni che si estendono dallo Zambia alla Nigeria hanno anche richiesto lavoro da parte dei bambini, e in cambio hanno fornito l\\' educazione religiosa, non l\\' istruzione secolare.', 'qas': [{'answers': [{'answer_start': 41, 'text': 'Hong Kong'}], 'id': '57277af45951b619008f8aef', 'question': 'Dove hanno chiuso un occhio i britannici sul lavoro minorile?'}, {'answers': [{'answer_start': 354, 'text': 'scuole missionarie cristiane'}], 'id': '57277af45951b619008f8af0', 'question': 'Quali scuole hanno richiesto lavoro minorile?'}]}, {'context': \"I bambini che lavorano in giovane età è stato un tema costante in tutta l' Africa. Molti bambini hanno iniziato a lavorare per la prima volta in casa per aiutare i genitori a gestire la fattoria di famiglia. Oggi in Africa i bambini sono spesso costretti allo sfruttamento del lavoro a causa del debito familiare e di altri fattori finanziari, che portano ad una costante povertà. Altri tipi di lavoro minorile domestico comprendono il lavoro in piantagioni commerciali, l' accattonaggio e altre vendite come lo stivale brillante. In totale, si stima che vi siano cinque milioni di bambini che attualmente lavorano nel settore agricolo, un numero in costante aumento durante il periodo del raccolto. Insieme con il 30% dei bambini che stanno raccogliendo caffè, ci sono circa 25.000 bambini in età scolare che lavorano tutto l' anno.\", 'qas': [{'answers': [{'answer_start': 145, 'text': 'casa'}], 'id': '57277c3a708984140094deed', 'question': 'Dove trovano il primo lavoro i bambini africani?'}]}, {'context': \"Le industrie in cui lavorano i bambini dipendono dal fatto che siano cresciute in un' area rurale o urbana. I bambini nati nelle aree urbane si sono spesso trovati a lavorare per venditori ambulanti, lavando automobili, aiutando nei cantieri edili, tessendo abiti e talvolta anche lavorando come ballerini esotici. Mentre i bambini cresciuti nelle zone rurali lavoravano in aziende agricole che facevano lavoro fisico, lavoravano con gli animali e vendevano colture. Tra tutti gli operatori del lavoro minorile, i casi più gravi hanno coinvolto bambini di strada e bambini vittime di tratta a causa degli abusi fisici ed emotivi subiti dai loro datori di lavoro. Per affrontare la questione del lavoro minorile, nel 1959 sono state attuate le convenzioni delle Nazioni Unite sui diritti del fanciullo. Tuttavia, a causa della povertà, della mancanza di istruzione e dell' ignoranza, le azioni legali non sono state o non sono state interamente applicate o accettate in Africa.\", 'qas': [{'answers': [{'answer_start': 374, 'text': 'aziende agricole'}], 'id': '57277eae708984140094df26', 'question': 'Dove hanno lavorato i bambini delle zone rurali?'}, {'answers': [{'answer_start': 716, 'text': '1959'}], 'id': '57277eae708984140094df27', 'question': 'Quando è stata applicata la Convenzione delle Nazioni Unite sui diritti del fanciullo?'}]}, {'context': \"Altri fattori giuridici che sono stati implementati per porre fine al lavoro minorile e ridurlo includono la risposta globale che è entrata in vigore nel 1979 con la dichiarazione dell' Anno internazionale del bambino. Insieme al Comitato per i diritti umani delle Nazioni Unite, queste due dichiarazioni hanno lavorato a più livelli per eliminare il lavoro minorile. Sebbene siano state intraprese molte azioni per porre fine a questa epidemia, il lavoro minorile in Africa è ancora oggi un problema a causa della definizione poco chiara dell' adolescenza e del tempo necessario ai bambini per impegnarsi in attività cruciali per il loro sviluppo. Un' altra questione che spesso entra in gioco è il legame tra ciò che costituisce il lavoro minorile all' interno della famiglia a causa dell' accettazione culturale dei bambini che aiutano a gestire l' impresa familiare. Alla fine, il governo nazionale si trova di fronte a una sfida consistente: rafforzare politicamente la propria presa sul lavoro minorile e aumentare l' istruzione e la sensibilizzazione sulla questione dei bambini che lavorano al di sotto del limite d' età legale. Con i bambini che svolgono un ruolo importante nell' economia africana, il lavoro minorile svolge ancora un ruolo importante per molti nel XX secolo.\", 'qas': [{'answers': [{'answer_start': 468, 'text': 'Africa'}], 'id': '57277fbedd62a815002e9ed0', 'question': 'Quale paese è ancora oggi un problema relativo al lavoro minorile?'}]}, {'context': \"Dall' insediamento europeo del 1888, i bambini condannati venivano occasionalmente inviati in Australia, dove venivano fatti lavorare. In Australia il lavoro minorile non era eccessivo come in Gran Bretagna. Con una bassa popolazione, la produttività agricola era più elevata e le famiglie non hanno dovuto affrontare la fame come nei paesi industrializzati. Anche l' Australia non ebbe un' industria significativa fino alla fine del XX secolo, quando le leggi sul lavoro minorile e la scolarizzazione obbligatoria si erano sviluppate sotto l' influenza della Gran Bretagna. A partire dal 1870 il lavoro minorile fu limitato dalla scolarizzazione obbligatoria.\", 'qas': [{'answers': [{'answer_start': 94, 'text': 'Australia'}], 'id': '57278094708984140094df53', 'question': 'Nel 1888 in quale paese sono stati inviati i minori condannati più numerosi?'}, {'answers': [{'answer_start': 434, 'text': 'XX secolo'}], 'id': '57278094708984140094df56', 'question': \"Quando è decollata l' industrailizzazione in Australia?\"}]}, {'context': \"Il lavoro minorile è stato una lotta costante per i bambini in Brasile da quando il paese è stato colonizzato il 22 aprile 1550 da Pedro Álvares Cabral. Il lavoro a cui hanno partecipato molti bambini non era sempre visibile, legale o retribuito. Il lavoro libero o schiavo era un fenomeno comune a molti giovani e faceva parte della loro vita quotidiana man mano che diventavano adulti. Tuttavia, non essendoci una definizione chiara di come classificare ciò che un bambino o un giovane è, nel periodo coloniale non vi è stata una documentazione storica del lavoro minorile. A causa di questa mancanza di documentazione, è difficile determinare quanti bambini sono stati utilizzati per quali tipi di lavoro prima del XIX secolo. La prima documentazione del lavoro minorile in Brasile è avvenuta durante l' epoca delle società indigene e del lavoro forzato, dove si è scoperto che i bambini lavoravano con la forza in attività che superavano i loro limiti emotivi e fisici. Armando Dias, per esempio, morì nel novembre 1913 ancora giovanissimo, vittima di una scossa elettrica quando entrò nell' industria tessile dove lavorò. Ragazzi e ragazze sono stati vittime di incidenti industriali ogni giorno.\", 'qas': [{'answers': [{'answer_start': 113, 'text': '22 aprile 1550'}], 'id': '57278262dd62a815002e9f1c', 'question': 'Quando è stato colonizzato il Brasile?'}, {'answers': [{'answer_start': 131, 'text': 'Pedro Álvares Cabral'}], 'id': '57278262dd62a815002e9f1d', 'question': 'Chi ha colonizzato il Brasile?'}, {'answers': [{'answer_start': 1127, 'text': 'Ragazzi e ragazze'}], 'id': '57278262dd62a815002e9f1e', 'question': 'Chi sono state le vittime degli incidenti industriali?'}, {'answers': [{'answer_start': 1060, 'text': 'scossa elettrica'}], 'id': '57278262dd62a815002e9f20', 'question': 'Come è morto Armando Dias?'}]}, {'context': \"In Brasile, l' età minima di lavoro è stata identificata come quattordici a causa delle continue modifiche costituzionali avvenute nel 1934,1937 e 1946. Eppure, a causa di un cambiamento nella dittatura da parte dei militari negli anni' 80, la limitazione minima dell' età è stata ridotta all' età di dodici anni, ma è stata rivista a causa delle segnalazioni di condizioni di lavoro pericolose e pericolose nel 1988. Ciò ha portato ad innalzare nuovamente l' età minima a 14 anni. Un' altra serie di restrizioni è stata approvata nel 1998 che limitavano i tipi di lavoro che i giovani potevano partecipare, come ad esempio il lavoro considerato pericoloso come la gestione di attrezzature edili o alcuni tipi di lavoro in fabbrica. Sebbene siano state adottate molte misure per ridurre il rischio e la frequenza del lavoro minorile, in Brasile vi è ancora un elevato numero di bambini e adolescenti al di sotto dei quattordici anni di età. Solo recentemente negli anni' 80 si è scoperto che in Brasile quasi nove milioni di bambini lavoravano illegalmente e non partecipavano alle tradizionali attività infantili che contribuiscono a sviluppare importanti esperienze di vita.\", 'qas': [{'answers': [{'answer_start': 62, 'text': 'quattordici'}], 'id': '572783acdd62a815002e9f4a', 'question': \"Qual è l' età minima di lavoro in Brasile?\"}, {'answers': [{'answer_start': 535, 'text': '1998'}], 'id': '572783acdd62a815002e9f4b', 'question': 'Quale anno erano le condizioni di lavoro pericolose limitate ai bambini in Brasile?'}]}, {'context': \"I dati del censimento brasiliano (PNAD, 1999) indicano che 2,55 milioni di persone di età compresa tra i 10 e i 14 anni erano occupate illegalmente. Ad essi si sono aggiunti 3,7 milioni di 15-17 anni e circa 375.000 5-9 anni. A causa della maggiore limitazione di età di 14 anni, almeno la metà dei giovani lavoratori registrati era stata occupata illegalmente, il che fa sì che molti non siano tutelati da importanti leggi sul lavoro. Sebbene sia passato molto tempo da quando il lavoro minorile regolamentato è passato, in Brasile c' è ancora un gran numero di bambini che lavorano illegalmente. Molti bambini vengono utilizzati dai cartelli della droga per vendere e trasportare droghe, armi da fuoco e altre sostanze illegali a causa della loro percezione di innocenza. Questo tipo di lavoro a cui partecipano i giovani è molto pericoloso a causa delle implicazioni fisiche e psicologiche che ne derivano. Tuttavia, nonostante i rischi derivanti dalla collaborazione con i narcotrafficanti, si è registrato un aumento dell' occupazione in tutto il paese.\", 'qas': [{'answers': [{'answer_start': 660, 'text': 'vendere e trasportare droghe, armi da fuoco e altre sostanze illegali'}], 'id': '572785c8dd62a815002e9f6d', 'question': 'Che cosa fanno i cartelli della droga con i lavoratori dei bambini?'}, {'answers': [{'answer_start': 857, 'text': 'implicazioni fisiche e psicologiche'}], 'id': '572785c8dd62a815002e9f6e', 'question': 'Quali sono i rischi del lavoro minorile nei cartelli della droga?'}, {'answers': [{'answer_start': 1011, 'text': 'un aumento'}], 'id': '572785c8dd62a815002e9f6f', 'question': 'Questi pericoli hanno causato e aumentato o diminuito il lavoro minorile con i cartelli della droga?'}]}, {'context': \"Molti fattori hanno giocato un ruolo nella crescita economica a lungo termine della Gran Bretagna, come la rivoluzione industriale alla fine del 1700 e la presenza prominente di lavoro minorile in età industriale. I bambini che lavoravano in tenera età spesso non erano costretti, ma lo facevano perché avevano bisogno di aiutare la loro famiglia a sopravvivere economicamente. A causa delle scarse opportunità di lavoro per molti genitori, inviare i loro figli a lavorare nelle aziende agricole e nelle fabbriche è stato un modo per aiutare a nutrire e sostenere la famiglia. Il lavoro minorile ha iniziato a verificarsi in Inghilterra quando le imprese domestiche sono state trasformate in mercati locali del lavoro che producevano in massa i beni un tempo casalinghi. Poiché i bambini spesso hanno aiutato a produrre le merci fuori casa, lavorare in una fabbrica per fabbricare le stesse merci è stato un semplice cambiamento per molti di questi giovani. Anche se ci sono molti conti di bambini sotto i dieci anni che lavorano per le fabbriche, la maggior parte dei bambini lavoratori erano tra i dieci e i quattordici anni. Questa fascia d' età è stata un momento importante per molti giovani, che per la prima volta hanno aiutato a provvedere alle loro famiglie, ma anche di transizione per salvare per le loro famiglie future.\", 'qas': [{'answers': [{'answer_start': 534, 'text': 'aiutare a nutrire e sostenere la famiglia'}], 'id': '57278650708984140094dfed', 'question': 'Se non forzato perché i bambini hanno lavorato?'}, {'answers': [{'answer_start': 1094, 'text': 'tra i dieci e i quattordici anni'}], 'id': '57278650708984140094dfee', 'question': \"Qual è stata l' età della maggior parte dei bambini lavoratori in Gran Bretagna?\"}]}, {'context': \"Oltre all' obbligo, molti bambini hanno dovuto aiutare a sostenere finanziariamente le loro famiglie; un altro fattore che ha influenzato il lavoro minorile sono stati i cambiamenti demografici avvenuti nel XVIII secolo. Alla fine del XVIII secolo, il 20 per cento della popolazione era costituito da bambini di età compresa tra i 5 e i 14 anni. A causa di questo sostanziale cambiamento dei lavoratori disponibili e dello sviluppo della rivoluzione industriale, i bambini hanno iniziato a lavorare prima nella vita nelle aziende fuori casa. Tuttavia, nonostante l' aumento del lavoro minorile in fabbriche come quella dei tessuti di cotone, il numero di bambini che lavorano nel settore dell' agricoltura e della produzione nazionale è costantemente elevato.\", 'qas': [{'answers': [{'answer_start': 67, 'text': 'finanziariamente'}], 'id': '5727877df1498d1400e8fb06', 'question': 'Che tipo di sostegno ha dato il bambino alle loro famiglie lavorando?'}]}, {'context': \"Con una percentuale così elevata di bambini che lavorano, l' aumento dell' analfabetismo e la mancanza di un' istruzione formale è diventata una questione diffusa per molti bambini che hanno lavorato per provvedere alle loro famiglie. A causa di questa tendenza problematica, molti genitori hanno sviluppato un cambiamento di opinione nel decidere se mandare o meno i propri figli a lavorare. Altri fattori che portano al declino del lavoro minorile sono stati i cambiamenti finanziari nell' economia, i cambiamenti nello sviluppo della tecnologia, l' aumento dei salari e la continua regolamentazione della legislazione sulle fabbriche.\", 'qas': [{'answers': [{'answer_start': 75, 'text': 'analfabetismo'}], 'id': '57278848dd62a815002e9faa', 'question': 'Che cosa è diventato un problema per il bambino che lavora?'}, {'answers': [{'answer_start': 276, 'text': 'molti genitori hanno sviluppato un cambiamento di opinione'}], 'id': '57278848dd62a815002e9fab', 'question': \"L' analfabetismo è stato un fattore che ha cambiato la mentalità dei genitori dei bambini lavoratori?\"}]}, {'context': \"Le prime azioni legali intraprese per porre fine al fenomeno del lavoro minorile sono state varate più di cinquant' anni fa. Nel 1966, la nazione adottò l' Assemblea Generale delle Nazioni Unite del Patto Internazionale sui Diritti Economici, Sociali e Culturali. Questa legge limitava legalmente l' età minima per quando i bambini potevano iniziare a lavorare all' età di 14 anni. Ma 23 anni dopo, nel 1989, la Convenzione sui diritti dell' infanzia fu adottata e contribuì a ridurre lo sfruttamento dei bambini e richiedeva ambienti di lavoro sicuri. Tutti hanno lavorato per raggiungere l' obiettivo di porre fine alle forme più problematiche di lavoro minorile.\", 'qas': [{'answers': [{'answer_start': 129, 'text': '1966'}], 'id': '57278a02f1498d1400e8fb48', 'question': \"Quando è stata promulgata l' Assemblea generale delle Nazioni Unite del Patto internazionale sui diritti economici, sociali e culturali?\"}, {'answers': [{'answer_start': 403, 'text': '1989'}], 'id': '57278a02f1498d1400e8fb4a', 'question': 'Quando è stata adottata la legislazione sugli ambienti di lavoro sicuri per i lavoratori minorili?'}]}, {'context': \"Il 23 giugno 1757, la Compagnia inglese dell' India orientale sconfisse Siraj-ud-Daula, il Nawab del Bengala, nella battaglia di Plassey. Gli inglesi divennero così maestri dell' India orientale (Bengala, Bihar, Orissa) - una regione prospera con una fiorente agricoltura, industria e commercio. Ciò ha fatto sì che una grande quantità di bambini fosse costretta a lavorare a causa della crescente necessità di manodopera a basso costo per produrre un gran numero di beni. Molte multinazionali spesso impiegano bambini perché possono essere reclutate con una retribuzione inferiore e hanno maggiore resistenza a utilizzarli in ambienti industriali. Un' altra ragione per cui molti bambini indiani sono stati assunti è stata la mancanza di conoscenza dei loro diritti fondamentali, non hanno causato problemi o lamentarsi e spesso sono stati più affidabili. L' innocenza che viene con l' infanzia è stato utilizzato per fare un profitto da molti ed è stato incoraggiato dal bisogno di reddito familiare.\", 'qas': [{'answers': [{'answer_start': 3, 'text': '23 giugno 1757'}], 'id': '57278b525951b619008f8ced', 'question': 'Quando ha sconfitto Siraj-ud-Daula?'}, {'answers': [{'answer_start': 727, 'text': 'mancanza di conoscenza dei loro diritti fondamentali'}], 'id': '57278b525951b619008f8cf0', 'question': \"Qual è stata la ragione principale per cui i bambini dell' India sono stati assunti?\"}, {'answers': [{'answer_start': 781, 'text': 'non hanno causato problemi o lamentarsi'}], 'id': '57278b525951b619008f8cf1', 'question': 'Come hanno agito i bambini lavoratori indiani?'}]}, {'context': \"Le influenze internazionali contribuiscono a incoraggiare le azioni legali da intraprendere in India, come la Dichiarazione di Ginevra sul diritto dell' infanzia approvata nel 1924. Questo atto è stato seguito dalla Dichiarazione Universale dei Diritti Umani nel 1948, alla quale sono stati incorporati i diritti umani fondamentali e le esigenze dei bambini per una corretta progressione e crescita nei loro anni più giovani. Questi atti internazionali hanno incoraggiato importanti cambiamenti nella forza lavoro in India che si sono verificati nel 1986 quando è stata introdotta la legge sul lavoro minorile (divieto e regolamentazione). Questa legge vietava l' assunzione di bambini di età inferiore ai 14 anni e il lavoro in condizioni pericolose.\", 'qas': [{'answers': [{'answer_start': 176, 'text': '1924'}], 'id': '57278c79dd62a815002ea00c', 'question': \"Quando è passata la Dichiarazione di Ginevra sul diritto dell' infanzia?\"}, {'answers': [{'answer_start': 706, 'text': '14'}], 'id': '57278c79dd62a815002ea00e', 'question': 'Qual è ora il limite di età in India per i lavoratori minori?'}]}, {'context': 'A partire dagli anni Cinquanta in poi, gli studenti sono stati utilizzati anche per lavori non retribuiti nelle scuole, dove hanno pulito ed eseguito riparazioni. Questa pratica è proseguita nella Federazione Russa, dove fino a 21 giorni di vacanze estive sono talvolta accantonati per i lavori scolastici. Per legge, questo è consentito solo come parte della formazione professionale specializzata e con il permesso degli studenti e dei genitori, ma queste disposizioni sono ampiamente ignorate. Nel 2012 c\\' è stato un incidente nei pressi della città di Nalchik, dove un\\' auto ha ucciso diversi alunni che pulivano una spalla autostradale durante il loro \"lavoro di vacanza\" e il loro insegnante che li stava supervisionando.', 'qas': [{'answers': [{'answer_start': 228, 'text': '21 giorni'}], 'id': '57278e045951b619008f8d6c', 'question': 'Per gli studenti lavoratori russi quante giornate estive sono state dedicate al lavoro?'}, {'answers': [{'answer_start': 501, 'text': '2012'}], 'id': '57278e045951b619008f8d6e', 'question': 'Quale anno sono stati uccisi gli studenti come parte di un progetto di pulizia stradale?'}]}, {'context': \"Fuori delle ex repubbliche dell' Unione Sovietica l' Uzbekistan ha continuato e ampliato il programma di lavoro minorile su scala industriale per aumentare i profitti sulla principale fonte di reddito di Islam Karimov, la raccolta del cotone. In settembre, quando inizia normalmente la scuola, le classi sono sospese e i bambini vengono inviati ai campi di cotone per lavoro, dove vengono assegnati loro contingenti giornalieri di 20 - 60 kg di cotone grezzo da raccogliere. Questo processo si ripete in primavera, quando il cotone raccolto deve essere raso e diserbato. Nel 2006 si stima che 2,7 milioni di bambini siano stati costretti a lavorare in questo modo.\", 'qas': [{'answers': [{'answer_start': 53, 'text': 'Uzbekistan'}], 'id': '572792e1708984140094e13f', 'question': 'Quale ex Unione Sovietica ha continuato i programmi di lavoro minorile?'}, {'answers': [{'answer_start': 593, 'text': '2,7 milioni'}], 'id': '572792e1708984140094e142', 'question': 'Quali sono le stime per il 2016 relative al lavoro minorile nella raccolta del cotone?'}]}, {'context': 'Come in molti altri Paesi, anche in Svizzera il lavoro minorile ha colpito tra i cosiddetti Kaminfegerkinder (\"bambini spazzacamino\") e chidren working p. e nelle filature, nelle fabbriche e nell\\' agricoltura della Svizzera del XIX secolo, ma anche negli anni\\' 60 il cosiddetto Verdingkinder (letteralmente:\"figli a contratto\" o \"operai minori\") era costituito da bambini prelevati dai genitori, spesso a causa della povertà o per motivi morali - di solito madri non sposate, cittadini molto poveri, di origine gypsy-Yeniche, i cosiddetti \"Kinder der Landstrasse\", ecc.', 'qas': []}, {'context': \"C' erano persino aste di Verdingkinder dove i bambini venivano consegnati all' agricoltore chiedendo il minimo denaro alle autorità, assicurando così manodopera a basso costo per la sua fattoria e sollevando l' autorità dall' onere finanziario di prendersi cura dei bambini. Negli anni' 30, il 20% dei lavoratori agricoli del Cantone di Berna aveva un' età inferiore ai 15 anni. Le autorità di tutela municipali svizzere hanno agito così, comunemente tollerate dalle autorità federali, agli anni' 60, non tutte naturalmente, ma di solito le comunità colpite da tasse basse in alcuni cantoni svizzeri lo storico svizzero Marco Leuenberger indagato, che nel 1930 c' erano circa 35.000 bambini e tra il 1920 e il 1970 si ritiene che più di 100.000 sono stati collocati con famiglie o case. 10.000 Verdingkinder sono ancora vivi. Pertanto, la cosiddetta iniziativa Wiedergutmachungs è stata avviata nell' aprile 2014. Nell' aprile del 2014 è iniziata la raccolta di almeno 100'000 firme di cittadini svizzeri autenticate, che devono ancora essere raccolte fino all' ottobre del 2015.\", 'qas': [{'answers': [{'answer_start': 676, 'text': '35.000'}], 'id': '572795a6dd62a815002ea12f', 'question': \"Negli anni' 30 del 1930, quanti bambini sono stati sottoposti ad un' azione di protesta?\"}, {'answers': [{'answer_start': 737, 'text': '100.000'}], 'id': '572795a6dd62a815002ea130', 'question': 'Quante firme di cittadini svizzeri sono state raccolte?'}]}, {'context': \"Nel 1999, l' OIL ha contribuito a guidare la Convenzione 182 sulle peggiori forme (C182), che è stata finora firmata e ratificata a livello nazionale da 151 paesi, tra cui gli Stati Uniti. Il diritto internazionale vieta le forme peggiori di lavoro minorile, definite come tutte le forme di schiavitù e pratiche simili alla schiavitù, come la tratta di minori, la schiavitù e il lavoro forzato, compreso il reclutamento forzato di bambini nei conflitti armati. La legge vieta anche l' uso di un bambino per la prostituzione o la produzione di pornografia, il lavoro minorile in attività illecite come la produzione e il traffico di droga e nel lavoro pericoloso. Sia la convenzione sulle forme peggiori (C182) che la convenzione sull' età minima (C138) sono esempi di norme internazionali sul lavoro attuate dall' OIL che trattano del lavoro minorile.\", 'qas': [{'answers': [{'answer_start': 153, 'text': '151'}], 'id': '5727965f708984140094e197', 'question': 'Quanti paesi hanno firmato la Convenzione delle Forme peggiori 183 (C182)?'}, {'answers': [{'answer_start': 273, 'text': 'tutte le forme di schiavitù'}], 'id': '5727965f708984140094e198', 'question': 'Quali tipi di lavoro minorile sono vietati?'}, {'answers': [{'answer_start': 717, 'text': \"convenzione sull' età minima (C138)\"}], 'id': '5727965f708984140094e199', 'question': 'Quali altre leggi internazionali riguardano il lavoro minorile?'}]}, {'context': \"Oltre a definire il diritto internazionale, nel 1992 le Nazioni Unite hanno avviato il Programma internazionale per l' eliminazione del lavoro minorile (IPEC). Questa iniziativa mira ad eliminare progressivamente il lavoro minorile rafforzando le capacità nazionali di affrontare alcune delle cause del lavoro minorile. Tra le iniziative chiave vi sono i cosiddetti paesi del programma con limiti temporali, in cui il lavoro minorile è più diffuso e mancano opportunità di scolarizzazione. L' iniziativa mira tra l' altro a raggiungere la disponibilità universale della scuola primaria. L' IPEC si è esteso ad almeno i seguenti paesi destinatari: Bangladesh, Brasile, Cina, Egitto, India, Indonesia, Messico, Messico, Nigeria, Pakistan, Repubblica Democratica del Congo, El Salvador, Nepal, Tanzania, Repubblica Dominicana, Costa Rica, Filippine, Senegal, Sudafrica e Turchia.\", 'qas': [{'answers': [{'answer_start': 186, 'text': 'eliminare progressivamente il lavoro minorile'}], 'id': '5727972a708984140094e1a8', 'question': \"Qual è l' obiettivo?\"}, {'answers': [{'answer_start': 647, 'text': 'Bangladesh, Brasile, Cina, Egitto'}], 'id': '5727972a708984140094e1a9', 'question': 'Quali sono alcuni dei paesi destinatari?'}]}, {'context': \"Nel 2004, gli Stati Uniti hanno approvato un emendamento al Fair Labour Standards Act del 1938. L' emendamento consente ad alcuni bambini di età compresa tra i 14 e i 18 anni di lavorare all' interno o all' esterno di un' impresa in cui vengono utilizzati macchinari per la lavorazione del legno. La legge mira a rispettare le esigenze religiose e culturali della comunità Amish degli Stati Uniti. L' Amish ritiene che un modo efficace per educare i bambini sia il lavoro. La nuova legge consente ai bambini Amish di lavorare con le loro famiglie, una volta che hanno superato l' ottavo anno di scuola.\", 'qas': [{'answers': [{'answer_start': 373, 'text': 'Amish'}], 'id': '57279793dd62a815002ea15a', 'question': 'Quale cultura statunitense trae vantaggio da questa legge?'}]}, {'context': \"Analogamente, nel 1996, i paesi membri dell' Unione Europea, in base alla Direttiva 94/33/CE, hanno approvato una serie di eccezioni per i giovani nelle sue leggi sul lavoro minorile. In base a tali norme, i bambini di età diverse possono svolgere attività culturali, artistiche, sportive o pubblicitarie, previa autorizzazione dell' autorità competente. I bambini di età superiore ai 13 anni possono svolgere lavori leggeri per un numero limitato di ore settimanali in altre attività economiche, come definite a discrezione di ciascun paese. Inoltre, l' eccezione del diritto europeo consente ai minori di età pari o superiore a 14 anni di lavorare nell' ambito di un programma di lavoro/formazione. La direttiva UE ha chiarito che queste eccezioni non consentono il lavoro minorile quando i bambini possono essere esposti a sostanze pericolose. Tuttavia, molti bambini di età inferiore ai 13 anni lavorano, anche nei paesi più sviluppati dell' UE. Ad esempio, uno studio recente ha mostrato che oltre un terzo dei bambini olandesi di dodici anni aveva un lavoro, il più comune è il baby-sitter.\", 'qas': [{'answers': [{'answer_start': 385, 'text': '13'}], 'id': '5727985b708984140094e1c2', 'question': 'A quale età i bambini hanno potuto fare lavoro leggero?'}, {'answers': [{'answer_start': 604, 'text': 'di età pari o superiore a 14 anni'}], 'id': '5727985b708984140094e1c3', 'question': 'A quale età i bambini hanno potuto partecipare ai programmi di formazione europei?'}]}, {'context': \"Alcuni studiosi[chi]? suggerire che qualsiasi lavoro svolto da bambini di età pari o inferiore a 18 anni è sbagliato in quanto favorisce l' analfabetismo, il lavoro disumano e minori investimenti nel capitale umano. Il lavoro minorile, affermano questi attivisti, porta anche a standard di lavoro inadeguati per gli adulti, deprime i salari degli adulti nei paesi in via di sviluppo e nei paesi sviluppati, e dà alle economie del terzo mondo posti di lavoro scarsamente qualificati solo in grado di produrre esportazioni di qualità scadente a basso costo. Più bambini che lavorano nei paesi poveri, meno giovani e meno retribuiti sono i posti di lavoro per gli adulti in questi paesi. In altre parole, vi sono ragioni morali ed economiche che giustificano un divieto generalizzato del lavoro di minori di 18 anni o meno, ovunque nel mondo.\", 'qas': [{'answers': [{'answer_start': 702, 'text': 'vi sono ragioni morali ed economiche che giustificano un divieto generalizzato del lavoro'}], 'id': '57279aacdd62a815002ea1c5', 'question': 'La fine del lavoro minorile ha un valore globale?'}]}, {'context': \"Altri studiosi[chi]? suggerire che questi argomenti sono viziati, ignorano la storia e più leggi faranno più male che bene. Secondo loro, il lavoro minorile è solo il sintomo di una malattia più grave, la povertà. Se le leggi vietano tutto il lavoro legale che consente ai poveri di sopravvivere, l' economia sommersa, le operazioni illecite e le attività sommerse prosperebbero. In questo modo aumenterà l' abuso dei bambini. Nei paesi poveri con tassi di incidenza molto elevati del lavoro minorile - come Etiopia, Ciad, Niger e Nepal - le scuole non sono disponibili e le poche scuole esistenti offrono un' istruzione di scarsa qualità o sono inaccessibili. Le alternative per i bambini che attualmente lavorano, sostengono questi studi, sono peggiori: triturazione dell' agricoltura di sussistenza, milizia o prostituzione. Il lavoro minorile non è una scelta, è una necessità, l' unica possibilità di sopravvivenza. E' attualmente il meno indesiderabile di una serie di scelte pessime.\", 'qas': [{'answers': [{'answer_start': 205, 'text': 'povertà'}], 'id': '57279b10ff5b5019007d90d4', 'question': 'Che cosa agitano alcuni studiosi è la \"malattia\" del lavoro minorile?'}]}, {'context': \"Questi studiosi suggeriscono, dai loro studi di dati economici e sociali, che il lavoro minorile dei primi anni del XX secolo in Europa e negli Stati Uniti si è in gran parte concluso come risultato dello sviluppo economico dell' economia formalmente regolamentata, dello sviluppo tecnologico e della prosperità generale. Le leggi sul lavoro minorile e le convenzioni dell' OIL sono arrivate più tardi. Edmonds suggerisce, anche in tempi contemporanei, che l' incidenza del lavoro minorile in Vietnam si è rapidamente ridotta a seguito delle riforme economiche e della crescita del PIL. Questi studiosi suggeriscono un impegno economico, l' enfasi sull' apertura di scuole di qualità piuttosto che più leggi e l' espansione delle opportunità di sviluppo delle competenze economicamente rilevanti nel terzo mondo. Le azioni legali internazionali, come le sanzioni commerciali, aumentano il lavoro minorile.\", 'qas': [{'answers': [{'answer_start': 205, 'text': 'sviluppo economico'}], 'id': '57279bc6708984140094e20f', 'question': 'Che cosa ha causato una diminuzione del lavoro minorile nel XX secolo?'}, {'answers': [{'answer_start': 542, 'text': 'riforme economiche'}], 'id': '57279bc6708984140094e210', 'question': 'Che cosa ha fatto diminuire il lavoro minorile in Vietnam?'}]}, {'context': \"Nel 1998, l' UNICEF ha riferito che gli agricoltori della Costa d' Avorio hanno fatto uso di bambini schiavi, molti dei paesi vicini. Alla fine del 2000 un documentario della BBC riportava l' uso di bambini schiavi nella produzione di cacao, l' ingrediente principale del cioccolato in Africa occidentale. Altri mezzi di comunicazione, seguiti dalle notizie relative alla diffusa schiavitù infantile e al traffico di bambini nella produzione del cacao. Nel 2001, secondo le stime del Dipartimento di Stato degli Stati Uniti, in Costa d' Avorio vi erano 15.000 bambini schiavi di cacao, cotone e caffè nelle fattorie, e l' Associazione dei produttori di cioccolato ha riconosciuto che la schiavitù infantile viene utilizzata nella raccolta del cacao.\", 'qas': [{'answers': [{'answer_start': 13, 'text': 'UNICEF'}], 'id': '57279c323acd2414000de7c5', 'question': \"Chi ha denunciato l' uso del lavoro minorile da parte degli agricoltori della Costa d' Avorio?\"}, {'answers': [{'answer_start': 221, 'text': 'produzione di cacao'}], 'id': '57279c323acd2414000de7c6', 'question': 'A cosa lavorano i lavoratori dei bambini in Africa occidentale?'}, {'answers': [{'answer_start': 553, 'text': '15.000'}], 'id': '57279c323acd2414000de7c7', 'question': 'Quanti bambini schiavi sono stati segnalati nelle fattorie di cacao, caffè e cotone?'}]}, {'context': \"I migranti del Mali hanno lavorato a lungo nelle aziende agricole per la produzione di cacao in Costa d' Avorio, ma nel 2000 i prezzi del cacao sono scesi a un minimo decennale e alcuni agricoltori hanno smesso di pagare i loro dipendenti. Il consigliere del Mali ha dovuto salvare alcuni ragazzi che non erano stati pagati per cinque anni e che sono stati picchiati se hanno cercato di scappare. I funzionari del Mali ritenevano che nel 2001 15.000 bambini, alcuni dei quali di 11 anni, lavorassero in Costa d' Avorio. Questi bambini provenivano spesso da famiglie povere o dalle baraccopoli e venivano venduti al lavoro in altri paesi. Ai genitori è stato detto che i bambini avrebbero trovato lavoro e inviato denaro a casa, ma una volta che i bambini hanno lasciato la casa, spesso hanno lavorato in condizioni simili alla schiavitù. In altri casi, i bambini che chiedevano cibo venivano attirati dalle stazioni degli autobus e venduti come schiavi. Nel 2002, la Costa d' Avorio aveva 12.000 bambini senza parenti nelle vicinanze, il che suggerisce che erano vittime di tratta, probabilmente provenienti dal vicino Mali, Burkina Faso e Togo.\", 'qas': [{'answers': [{'answer_start': 204, 'text': 'smesso di pagare i loro dipendenti'}], 'id': '57279cf2708984140094e250', 'question': 'Dopo 10 anni di prezzi bassi, a cosa hanno fatto ricorso alcuni agricoltori?'}, {'answers': [{'answer_start': 907, 'text': 'stazioni degli autobus'}], 'id': '57279cf2708984140094e252', 'question': \"Dove sono stati i bambini che chiedono l' elemosina spesso presi di mira per essere venduti in schiavitù?\"}]}, {'context': 'L\\' industria del cacao è stata accusata di approfittare della schiavitù infantile e del traffico di esseri umani. L\\' Associazione europea del cacao ha respinto queste accuse come \"false ed eccessive\" e l\\' industria ha affermato che le relazioni non erano rappresentative di tutti i settori. Successivamente l\\' industria ha riconosciuto che le condizioni di lavoro per i bambini erano insoddisfacenti e che i diritti dei bambini sono stati talvolta violati e ha riconosciuto che le rivendicazioni non potevano essere ignorate. In un\\' intervista della BBC, l\\' ambasciatore per la Costa d\\' Avorio nel Regno Unito ha definito assurdo e impreciso l\\' uso diffuso del lavoro minorile schiavo da parte di 700.000 coltivatori di cacao.', 'qas': [{'answers': [{'answer_start': 3, 'text': 'industria del cacao'}], 'id': '57279dae4b864d19001638a6', 'question': 'Quale industria è stata accusata di aver approfittato del lavoro minorile?'}, {'answers': [{'answer_start': 117, 'text': 'Associazione europea del cacao'}], 'id': '57279dae4b864d19001638a7', 'question': 'Chi ha respinto le accuse?'}, {'answers': [{'answer_start': 697, 'text': '700.000'}], 'id': '57279dae4b864d19001638a8', 'question': 'Quali sono le cifre relative ai coltivatori di cacao che fanno ricorso al lavoro minorile?'}, {'answers': [{'answer_start': 558, 'text': \"ambasciatore per la Costa d' Avorio nel Regno Unito\"}], 'id': '57279dae4b864d19001638a9', 'question': 'Chi ha affermato che tali relazioni fossero inesatte?'}]}, {'context': \"Nel 2001, un accordo volontario denominato Protocollo di Harkin-Engel è stato accettato dall' industria internazionale del cacao e del cioccolato per eliminare le peggiori forme di lavoro minorile, definite dalla Convenzione 182 dell' OIL, nell' Africa occidentale. Questo accordo ha creato nel 2002 una fondazione denominata Iniziativa internazionale sul cacao. La fondazione sostiene di avere, a partire dal 2011, programmi attivi in 290 comunità di coltivazione del cacao in Costa d' Avorio e Ghana, raggiungendo una popolazione totale di 689.000 persone per contribuire ad eliminare le peggiori forme di lavoro minorile nell' industria del cacao. Altre organizzazioni sostengono che sono stati compiuti progressi, ma le scadenze del protocollo del 2005 non sono ancora state rispettate.\", 'qas': [{'answers': [{'answer_start': 21, 'text': 'volontario'}], 'id': '57279e5bff5b5019007d912c', 'question': 'Quale tipo di accordo è stato il protocollo Harkin-Engel del 2001?'}, {'answers': [{'answer_start': 326, 'text': 'Iniziativa internazionale sul cacao'}], 'id': '57279e5bff5b5019007d912d', 'question': \"Quali sono state le fondamenta dell' accordo?\"}, {'answers': [{'answer_start': 436, 'text': '290'}], 'id': '57279e5bff5b5019007d912e', 'question': 'Quanti programmi attivi ha la fondazione?'}]}, {'context': 'Nel 2008, Bloomberg ha fatto ricorso al lavoro minorile nelle miniere di rame e cobalto che rifornivano le imprese cinesi in Congo. I bambini sono crespi, cioè scavano il minerale a mano, portano sacchi di minerali sulla schiena, e questi vengono poi acquistati da queste aziende. Oltre 60 dei 75 impianti di trasformazione di Katanga sono di proprietà di società cinesi e il 90% dei minerali della regione va in Cina. Un rapporto delle ONG africane ha affermato che 80.000 lavoratori minori di 15 anni, pari a circa il 40% di tutti i minatori, fornivano minerale a società cinesi in questa regione africana. Amnesty International ha affermato nel 2016 che alcuni cobalto venduto da Congo Dongfang Mining è stato prodotto da lavoro minorile, e che era utilizzato in batterie agli ioni di litio alimentando auto elettriche e dispositivi mobili in tutto il mondo.', 'qas': [{'answers': [{'answer_start': 125, 'text': 'Congo'}], 'id': '57279ecd4b864d19001638b8', 'question': 'Chi era il fornitore di rame e cobalto alla Cina?'}]}, {'context': \"La BBC, nel 2012, ha accusato Glencore di utilizzare il lavoro minorile nelle sue attività minerarie e di fusione dell' Africa. Glencore ha negato l' uso del lavoro minorile, e ha detto che ha una politica rigorosa di non utilizzare il lavoro minorile. La società ha sostenuto di avere una politica rigorosa che prevedeva che tutto il rame fosse estratto correttamente, collocato in sacchi con sigilli numerati e poi inviato alla fonderia. Glencore ha ricordato di essere a conoscenza dei minatori minori che facevano parte di un gruppo di minatori artigianali che avevano fatto irruzione senza autorizzazione nella concessione assegnata all' azienda dal 2010; Glencore ha chiesto al governo di ritirare i minatori artigianali dalla concessione.\", 'qas': [{'answers': [{'answer_start': 82, 'text': \"attività minerarie e di fusione dell' Africa\"}], 'id': '5727a0b22ca10214002d9252', 'question': 'Che cosa ha detto la BBC che Glencore ha usato il lavoro minorile nel 2012?'}]}, {'context': \"L' estrazione artigianale su piccola scala dell' oro è un' altra fonte pericolosa di lavoro minorile nelle zone rurali povere in alcune parti del mondo. Questa forma di estrazione mineraria utilizza metodi ad alta intensità di manodopera e a bassa tecnologia. Si tratta di un settore informale dell' economia. Il gruppo Human Rights Watch stima che circa il 12% della produzione mondiale di oro provenga da miniere artigianali. Nell' Africa occidentale, in paesi come il Mali - terzo maggiore esportatore d' oro in Africa - tra i 20.000 e i 40.000 bambini lavorano nelle miniere artigianali. Conosciuto localmente come orpaillage, i bambini dai 6 anni in su lavorano con le loro famiglie. Questi bambini e queste famiglie sono esposti cronicamente a sostanze chimiche tossiche, incluso il mercurio, e svolgono lavori pericolosi come lo scavo di pozzi e il lavoro sotterraneo, l' estrazione, il trasporto e la frantumazione del minerale. Le cattive pratiche lavorative nuocciono alla salute a lungo termine dei bambini, oltre a rilasciare centinaia di tonnellate di mercurio ogni anno nei fiumi locali, nelle acque sotterranee e nei laghi. L' oro è importante per l' economia del Mali e del Ghana. Per il Mali, è la seconda fonte di entrate delle sue esportazioni. Per molte famiglie povere con bambini, è l' unica fonte di reddito primario e talvolta l' unica.\", 'qas': [{'answers': [{'answer_start': 49, 'text': 'oro'}], 'id': '5727a1343acd2414000de851', 'question': \"Qual è un' altra fonte di estrazione mineraria pericolosa per i bambini lavoratori?\"}, {'answers': [{'answer_start': 471, 'text': 'Mali'}], 'id': '5727a1343acd2414000de852', 'question': 'Qual è il terzo maggiore esportatore di oro in Africa?'}]}, {'context': 'All\\' inizio di agosto 2008, il commissario laburista dello Iowa David Neil ha annunciato che il suo dipartimento aveva scoperto che Agriprocessors, un\\' azienda di imballaggio di carne kosher a Postville, recentemente oggetto di incursioni da parte dell\\' Immigrazione e delle dogane, aveva impiegato 57 minori, alcuni dei quali addirittura 14, in violazione della legge statale che vietava a chiunque sotto i 18 anni di lavorare in un impianto di imballaggio di carne. Neil ha annunciato che stava voltando il caso al procuratore generale dello Stato per l\\' accusa, sostenendo che l\\' indagine del suo dipartimento aveva scoperto \"gravi violazioni di quasi tutti gli aspetti delle leggi sul lavoro minorile dello Iowa\". Agriprocessori hanno affermato che non era in perdita comprendere le accuse. Il 4 maggio 2010 il CEO di Agriprocessors è stato giudicato in tribunale.', 'qas': [{'answers': [{'answer_start': 299, 'text': '57'}], 'id': '5727a1a64b864d19001638e0', 'question': 'Quanti minorenni hanno impiegato gli Agriprocessori?'}, {'answers': [{'answer_start': 798, 'text': '4 maggio 2010'}], 'id': '5727a1a64b864d19001638e2', 'question': 'Quando è stato processato il CEO?'}]}, {'context': 'Nel dicembre 2009, gli attivisti nel Regno Unito hanno invitato due dei principali rivenditori ambulanti a smettere di vendere vestiti di cotone che forse sono stati raccolti dai bambini. Anti-Slavery International e la Environmental Justice Foundation (EJF) hanno accusato H&M e Zara di aver utilizzato fornitori di cotone in Bangladesh. Si sospetta inoltre che molte delle loro materie prime provengano dall\\' Uzbekistan, dove i bambini di 10 anni sono costretti a lavorare nei campi. Gli attivisti chiedevano di vietare l\\' uso del cotone uzbeko e di implementare un sistema \"track and trace\" per garantire una fonte etica responsabile del materiale.', 'qas': [{'answers': [{'answer_start': 188, 'text': 'Anti-Slavery International e la Environmental Justice Foundation (EJF)'}], 'id': '5727a29e4b864d1900163900', 'question': 'Chi ha accusato H&M di utilizzare prodotti realizzati da bambini?'}, {'answers': [{'answer_start': 280, 'text': 'Zara'}], 'id': '5727a29e4b864d1900163901', 'question': 'Chi altro ha accusato di utilizzare prodotti per il lavoro minorile?'}, {'answers': [{'answer_start': 327, 'text': 'Bangladesh'}], 'id': '5727a29e4b864d1900163902', 'question': 'Da quale paese proviene il cotone raccolto dai bambini?'}]}, {'context': 'Nel 2008, la BBC ha riferito che la società Primark utilizzava il lavoro minorile nella produzione di abbigliamento. In particolare, una camicia ricamata a mano da £4 è stata il punto di partenza di un documentario prodotto dal programma Panorama della BBC. Il programma chiede ai consumatori di chiedersi:\"Perché pago solo 4 sterline per un top ricamato a mano? Questo articolo è fatto a mano. Chi l\\' ha fatto per un costo così basso? \"oltre a denunciare il lato violento dell\\' industria del lavoro minorile nei paesi in cui lo sfruttamento dei minori è prevalente.', 'qas': [{'answers': [{'answer_start': 44, 'text': 'Primark'}], 'id': '5727a3013acd2414000de885', 'question': 'Chi ha riferito la BBC nel 2008 di utilizzare il lavoro minorile?'}, {'answers': [{'answer_start': 102, 'text': 'abbigliamento'}], 'id': '5727a3013acd2414000de886', 'question': 'Cosa produce Primark?'}]}, {'context': 'Primark ha continuato ad indagare sulle accuse per tre anni, concludendo che il rapporto della BBC era falso. Nel 2011, a seguito di un\\' indagine del comitato Editorial Standards Committee della BBC Trust, la BBC ha annunciato:\"Dopo aver attentamente esaminato tutte le prove pertinenti, il comitato ha concluso che, per quanto riguarda l\\' equilibrio delle probabilità, era più probabile che il filmato Bangalore non fosse autentico\".', 'qas': [{'answers': [{'answer_start': 103, 'text': 'falso'}], 'id': '5727a35c3acd2414000de88e', 'question': 'Cosa hanno affermato in merito al rapporto della BBC?'}]}, {'context': 'Spesso sono state espresse preoccupazioni in merito alla complicità morale del pubblico acquirente nell\\' acquisto di prodotti assemblati o altrimenti fabbricati nei paesi in via di sviluppo con lavoro minorile. Tuttavia, altri hanno espresso preoccupazioni sul fatto che il boicottaggio di prodotti fabbricati attraverso il lavoro minorile possa costringere questi bambini a ricorrere a professioni più pericolose o faticose, come la prostituzione o l\\' agricoltura. Ad esempio, uno studio dell\\' UNICEF ha rilevato che, dopo l\\' introduzione negli Stati Uniti della legge sulla dissuasione del lavoro minorile, si stima che circa 50.000 bambini siano stati licenziati dall\\' industria dell\\' abbigliamento in Bangladesh, lasciando molti di loro a lavori come \"schiacciamento della pietra, sgusciatura di strada e prostituzione\", lavori che sono \"più pericolosi e sfruttatori della produzione di indumenti\". Lo studio suggerisce che i boicottaggi sono \"strumenti smussati con conseguenze a lungo termine, che possono effettivamente nuocere piuttosto che aiutare i bambini coinvolti\".', 'qas': []}, {'context': 'Secondo Milton Friedman, prima della rivoluzione industriale praticamente tutti i bambini lavoravano in agricoltura. Durante la Rivoluzione Industriale molti di questi bambini si trasferirono dal lavoro agricolo a quello in fabbrica. Con il passare del tempo, con l\\' aumento dei salari reali, i genitori hanno potuto permettersi di mandare i propri figli a scuola invece di lavorare e di conseguenza il lavoro minorile è diminuito, sia prima che dopo la legislazione. L\\' economista della scuola austriaca Murray Rothbard ha detto che i bambini britannici e americani della Rivoluzione pre- e post-Industriale vivevano e soffrivano in condizioni infinitamente peggiori dove i posti di lavoro non erano disponibili per loro e andavano \"volontariamente e volentieri\" a lavorare nelle fabbriche.', 'qas': [{'answers': [{'answer_start': 104, 'text': 'agricoltura'}], 'id': '5727a440ff5b5019007d91b8', 'question': 'Dove lavoravano i bambini prima della rivoluzione industriale?'}]}, {'context': 'Secondo Thomas DeGregori, professore di economia all\\' Università di Houston, in un articolo pubblicato dal Cato Institute, un think-tank libertario operante a Washington D. C.,\"è chiaro che il cambiamento tecnologico ed economico sono ingredienti vitali per far uscire i bambini dal posto di lavoro e nelle scuole. Poi possono crescere fino a diventare adulti produttivi e vivere una vita più lunga e sana. Tuttavia, in paesi poveri come il Bangladesh, i bambini lavoratori sono essenziali per la sopravvivenza di molte famiglie, come lo erano nel nostro patrimonio fino alla fine del XIX secolo.', 'qas': [{'answers': [{'answer_start': 441, 'text': 'Bangladesh'}], 'id': '5727a4f1ff5b5019007d91cb', 'question': 'Che paese ha bisogno di lavoro minorile per sopravvivere?'}]}, {'context': \"Il termine lavoro minorile può essere fuorviante quando confonde il lavoro dannoso con un' occupazione che può essere vantaggiosa per i minori. Può anche ignorare il lavoro dannoso al di fuori dell' occupazione e qualsiasi beneficio che i bambini traggono normalmente dal loro lavoro. Il lavoro domestico è un esempio: tutte le famiglie ma i ricchi devono lavorare alla pulizia, cucinare, prendersi cura e altro ancora per mantenere le loro case. Nella maggior parte delle famiglie nel mondo, questo processo si estende alle attività produttive, in particolare all' allevamento e a vari tipi di agricoltura, e a diverse piccole aziende familiari. Nei casi in cui il commercio è una caratteristica significativa della vita sociale, i bambini possono iniziare a commerciare in piccoli articoli fin dalla più tenera età, spesso in compagnia di familiari o coetanei.\", 'qas': [{'answers': [{'answer_start': 288, 'text': 'lavoro domestico'}], 'id': '5727a7103acd2414000de8e3', 'question': \"Cos' è il lavoro benefico per i bambini?\"}, {'answers': [{'answer_start': 731, 'text': 'i bambini possono iniziare a commerciare in piccoli articoli fin dalla più tenera età, spesso in compagnia di familiari o coetanei'}], 'id': '5727a7103acd2414000de8e4', 'question': 'Cosa possono fare i bambini nei paesi in cui è coinvolta la compravendita?'}]}, {'context': 'Il lavoro è intrapreso fin dalla più tenera età da un vasto numero di bambini nel mondo e può avere un posto naturale nella crescita. Il lavoro può contribuire al benessere dei bambini in vari modi; i bambini spesso scelgono di lavorare per migliorare la loro vita, sia a breve che a lungo termine. A livello materiale, il lavoro dei bambini spesso contribuisce a produrre cibo o reddito che va a beneficio proprio e delle loro famiglie; tale reddito è particolarmente importante quando le famiglie sono povere. Il lavoro può fornire una via di fuga dalla povertà debilitante, talvolta consentendo a un giovane di allontanarsi da un ambiente povero. I giovani spesso apprezzano il loro lavoro, specialmente quello retribuito, o quando il lavoro coinvolge la compagnia dei coetanei. Anche quando il lavoro è intenso e forzato, i bambini spesso trovano il modo di combinare il loro lavoro con il gioco.', 'qas': [{'answers': [{'answer_start': 3, 'text': 'lavoro'}], 'id': '5727a766ff5b5019007d91f6', 'question': \"Cos' è un processo naturale di sviluppo del bambino?\"}, {'answers': [{'answer_start': 3, 'text': 'lavoro'}], 'id': '5727a766ff5b5019007d91f7', 'question': 'Qual è la via di fuga per i giovani che vivono in povertà?'}]}, {'context': \"Mentre il lavoro a tempo pieno ostacola la scolarizzazione, le prove empiriche sul rapporto tra lavoro a tempo parziale e scuola sono diverse. Talvolta anche il lavoro a tempo parziale può ostacolare la frequenza o la prestazione scolastica. D' altra parte, molti bambini poveri lavorano per ottenere risorse per frequentare la scuola. I bambini che non vanno bene a scuola a volte cercano un' esperienza di lavoro più soddisfacente. Buone relazioni con un supervisore sul posto di lavoro possono dare sollievo dalle tensioni che i bambini provano a scuola e a casa. Nel mondo moderno, l' istruzione scolastica è diventata talmente centrale per la società che il lavoro scolastico è diventato il lavoro dominante per la maggior parte dei bambini, spesso sostituendo la partecipazione al lavoro produttivo. Se i programmi scolastici o la qualità non forniscono ai bambini competenze adeguate per i posti di lavoro disponibili o se i bambini non hanno né l' attitudine al lavoro scolastico, la scuola può ostacolare l' apprendimento di competenze, come l' agricoltura, che diventeranno necessarie per il futuro sostentamento.\", 'qas': [{'answers': [{'answer_start': 10, 'text': 'lavoro a tempo pieno'}], 'id': '5727a8aa2ca10214002d9312', 'question': \"Che cosa ostacola l' istruzione scolastica dei lavoratori minorili?\"}]}]}\n"
     ]
    }
   ],
   "source": [
    "#filter allows us to put condetions on the result\n",
    "sample2 = squad_it_dataset[\"train\"].filter(lambda x : x[\"title\"].startswith(\"L\")).shuffle().select(range(5))\n",
    "print(sample2)\n",
    "print(sample2[0])"
   ]
  },
  {
   "cell_type": "code",
   "execution_count": 15,
   "metadata": {},
   "outputs": [
    {
     "name": "stdout",
     "output_type": "stream",
     "text": [
      "Dataset({\n",
      "    features: ['title', 'paragraphs'],\n",
      "    num_rows: 442\n",
      "})\n"
     ]
    }
   ],
   "source": [
    "sample2 = squad_it_dataset[\"train\"].filter(lambda x : len(x[\"title\"]))\n",
    "print(sample2)"
   ]
  },
  {
   "cell_type": "code",
   "execution_count": 1,
   "metadata": {},
   "outputs": [
    {
     "data": {
      "application/vnd.jupyter.widget-view+json": {
       "model_id": "03584c54b15340daa51f0788ed1ab3fc",
       "version_major": 2,
       "version_minor": 0
      },
      "text/plain": [
       "Generating train split: 0 examples [00:00, ? examples/s]"
      ]
     },
     "metadata": {},
     "output_type": "display_data"
    },
    {
     "data": {
      "application/vnd.jupyter.widget-view+json": {
       "model_id": "ec7be397a58a4df4bd8dfcd42909c5e1",
       "version_major": 2,
       "version_minor": 0
      },
      "text/plain": [
       "Generating test split: 0 examples [00:00, ? examples/s]"
      ]
     },
     "metadata": {},
     "output_type": "display_data"
    }
   ],
   "source": [
    "from datasets import load_dataset\n",
    "\n",
    "data_files = {\"train\": \"drugsComTrain_raw.tsv\", \"test\": \"drugsComTest_raw.tsv\"}\n",
    "# \\t is the tab character in Python\n",
    "drug_dataset = load_dataset(\"csv\", data_files=data_files, delimiter=\"\\t\")"
   ]
  },
  {
   "cell_type": "code",
   "execution_count": 6,
   "metadata": {},
   "outputs": [
    {
     "data": {
      "text/plain": [
       "{'Unnamed: 0': [87591, 87760, 87620],\n",
       " 'drugName': ['Naproxen', 'Naproxen', 'Naproxen'],\n",
       " 'condition': ['Period Pain', 'Muscle Pain', 'Osteoarthritis'],\n",
       " 'review': ['\"I have tried everything but only with this painkiller I can function on first day of my period. I still feel little pain but bearable. I can go to job. Until I discover this drug I was every month minimum one day in bed vomiting, screaming and crying. Other pills never helped this much.\"',\n",
       "  '\"I used Naproxen when I tore a tendon in my knee and the swelling would not go down. Naproxen works. It takes some time but you have to be on a regular dose and once you stop taking it, it goes back to the way it was before (at least in my case it did).\"',\n",
       "  '\"This is an excellent pain medication as well as an anti inflammatory. I take 500 mg twice a day and had no adverse side effects.\"'],\n",
       " 'rating': [10.0, 8.0, 10.0],\n",
       " 'date': ['July 7, 2015', 'May 12, 2008', 'February 1, 2014'],\n",
       " 'usefulCount': [24, 33, 62]}"
      ]
     },
     "execution_count": 6,
     "metadata": {},
     "output_type": "execute_result"
    }
   ],
   "source": [
    "drug_sample = drug_dataset[\"train\"].filter(lambda x: x[\"drugName\"] == \"Naproxen\").shuffle(seed=42).select(range(5))\n",
    "# Peek at the first few examples\n",
    "drug_sample[:3]"
   ]
  },
  {
   "cell_type": "code",
   "execution_count": 7,
   "metadata": {},
   "outputs": [],
   "source": [
    "for split in drug_dataset.keys():\n",
    "    assert len(drug_dataset[split]) == len(drug_dataset[split].unique(\"Unnamed: 0\"))"
   ]
  },
  {
   "cell_type": "code",
   "execution_count": 8,
   "metadata": {},
   "outputs": [
    {
     "data": {
      "text/plain": [
       "DatasetDict({\n",
       "    train: Dataset({\n",
       "        features: ['patient_id', 'drugName', 'condition', 'review', 'rating', 'date', 'usefulCount'],\n",
       "        num_rows: 161297\n",
       "    })\n",
       "    test: Dataset({\n",
       "        features: ['patient_id', 'drugName', 'condition', 'review', 'rating', 'date', 'usefulCount'],\n",
       "        num_rows: 53766\n",
       "    })\n",
       "})"
      ]
     },
     "execution_count": 8,
     "metadata": {},
     "output_type": "execute_result"
    }
   ],
   "source": [
    "drug_dataset = drug_dataset.rename_column(\n",
    "    original_column_name=\"Unnamed: 0\", new_column_name=\"patient_id\"\n",
    ")\n",
    "drug_dataset"
   ]
  },
  {
   "cell_type": "code",
   "execution_count": 13,
   "metadata": {},
   "outputs": [
    {
     "data": {
      "text/plain": [
       "3436"
      ]
     },
     "execution_count": 13,
     "metadata": {},
     "output_type": "execute_result"
    }
   ],
   "source": [
    "len(drug_dataset[\"train\"].unique(\"drugName\"))"
   ]
  },
  {
   "cell_type": "code",
   "execution_count": 15,
   "metadata": {},
   "outputs": [
    {
     "data": {
      "application/vnd.jupyter.widget-view+json": {
       "model_id": "f8afe3bb0e1946c085bf3987483ae89e",
       "version_major": 2,
       "version_minor": 0
      },
      "text/plain": [
       "Filter:   0%|          | 0/161297 [00:00<?, ? examples/s]"
      ]
     },
     "metadata": {},
     "output_type": "display_data"
    },
    {
     "data": {
      "application/vnd.jupyter.widget-view+json": {
       "model_id": "983085921b464226b95a263d0279f27f",
       "version_major": 2,
       "version_minor": 0
      },
      "text/plain": [
       "Filter:   0%|          | 0/53766 [00:00<?, ? examples/s]"
      ]
     },
     "metadata": {},
     "output_type": "display_data"
    }
   ],
   "source": [
    "drug_dataset = drug_dataset.filter(lambda x: x[\"condition\"] is not None)"
   ]
  },
  {
   "cell_type": "code",
   "execution_count": 17,
   "metadata": {},
   "outputs": [
    {
     "data": {
      "text/plain": [
       "'abc'"
      ]
     },
     "execution_count": 17,
     "metadata": {},
     "output_type": "execute_result"
    }
   ],
   "source": [
    "\"abc\".lower()"
   ]
  },
  {
   "cell_type": "code",
   "execution_count": 18,
   "metadata": {},
   "outputs": [],
   "source": [
    "def lowercase_condition(example):\n",
    "    return {\"condition\": example[\"condition\"].lower()}"
   ]
  },
  {
   "cell_type": "code",
   "execution_count": 19,
   "metadata": {},
   "outputs": [
    {
     "data": {
      "application/vnd.jupyter.widget-view+json": {
       "model_id": "e1fdd67d41d94effb25e30f853cc81b6",
       "version_major": 2,
       "version_minor": 0
      },
      "text/plain": [
       "Map:   0%|          | 0/160398 [00:00<?, ? examples/s]"
      ]
     },
     "metadata": {},
     "output_type": "display_data"
    },
    {
     "data": {
      "application/vnd.jupyter.widget-view+json": {
       "model_id": "ff36f9f893af47f2aa07d259b3de1e7c",
       "version_major": 2,
       "version_minor": 0
      },
      "text/plain": [
       "Map:   0%|          | 0/53471 [00:00<?, ? examples/s]"
      ]
     },
     "metadata": {},
     "output_type": "display_data"
    },
    {
     "data": {
      "text/plain": [
       "['left ventricular dysfunction', 'adhd', 'birth control']"
      ]
     },
     "execution_count": 19,
     "metadata": {},
     "output_type": "execute_result"
    }
   ],
   "source": [
    "drug_dataset = drug_dataset.map(lowercase_condition)\n",
    "# Check that lowercasing worked\n",
    "drug_dataset[\"train\"][\"condition\"][:3]"
   ]
  },
  {
   "cell_type": "code",
   "execution_count": 21,
   "metadata": {},
   "outputs": [],
   "source": [
    "def compute_review_length(example):\n",
    "    return {\"review_length\": len(example[\"review\"].split())}"
   ]
  },
  {
   "cell_type": "code",
   "execution_count": 22,
   "metadata": {},
   "outputs": [
    {
     "data": {
      "application/vnd.jupyter.widget-view+json": {
       "model_id": "b86c796150c14c8f82749e7e2332d2cc",
       "version_major": 2,
       "version_minor": 0
      },
      "text/plain": [
       "Map:   0%|          | 0/160398 [00:00<?, ? examples/s]"
      ]
     },
     "metadata": {},
     "output_type": "display_data"
    },
    {
     "data": {
      "application/vnd.jupyter.widget-view+json": {
       "model_id": "808fc34290d54364b75b2628b0822a97",
       "version_major": 2,
       "version_minor": 0
      },
      "text/plain": [
       "Map:   0%|          | 0/53471 [00:00<?, ? examples/s]"
      ]
     },
     "metadata": {},
     "output_type": "display_data"
    },
    {
     "data": {
      "text/plain": [
       "{'patient_id': 206461,\n",
       " 'drugName': 'Valsartan',\n",
       " 'condition': 'left ventricular dysfunction',\n",
       " 'review': '\"It has no side effect, I take it in combination of Bystolic 5 Mg and Fish Oil\"',\n",
       " 'rating': 9.0,\n",
       " 'date': 'May 20, 2012',\n",
       " 'usefulCount': 27,\n",
       " 'review_length': 17}"
      ]
     },
     "execution_count": 22,
     "metadata": {},
     "output_type": "execute_result"
    }
   ],
   "source": [
    "drug_dataset = drug_dataset.map(compute_review_length)\n",
    "# Inspect the first training example\n",
    "drug_dataset[\"train\"][0]"
   ]
  },
  {
   "cell_type": "code",
   "execution_count": 23,
   "metadata": {},
   "outputs": [
    {
     "data": {
      "text/plain": [
       "{'patient_id': [111469, 13653, 53602],\n",
       " 'drugName': ['Ledipasvir / sofosbuvir',\n",
       "  'Amphetamine / dextroamphetamine',\n",
       "  'Alesse'],\n",
       " 'condition': ['hepatitis c', 'adhd', 'birth control'],\n",
       " 'review': ['\"Headache\"', '\"Great\"', '\"Awesome\"'],\n",
       " 'rating': [10.0, 10.0, 10.0],\n",
       " 'date': ['February 3, 2015', 'October 20, 2009', 'November 23, 2015'],\n",
       " 'usefulCount': [41, 3, 0],\n",
       " 'review_length': [1, 1, 1]}"
      ]
     },
     "execution_count": 23,
     "metadata": {},
     "output_type": "execute_result"
    }
   ],
   "source": [
    "drug_dataset[\"train\"].sort(\"review_length\")[:3]"
   ]
  },
  {
   "cell_type": "code",
   "execution_count": 24,
   "metadata": {},
   "outputs": [
    {
     "ename": "SyntaxError",
     "evalue": "invalid syntax (2036149770.py, line 2)",
     "output_type": "error",
     "traceback": [
      "\u001b[1;36m  Cell \u001b[1;32mIn[24], line 2\u001b[1;36m\u001b[0m\n\u001b[1;33m    print(drug_dataset.num_rows)drug_dataset = drug_dataset.filter(lambda x: x[\"review_length\"] > 30)\u001b[0m\n\u001b[1;37m                                ^\u001b[0m\n\u001b[1;31mSyntaxError\u001b[0m\u001b[1;31m:\u001b[0m invalid syntax\n"
     ]
    }
   ],
   "source": [
    "drug_dataset = drug_dataset.filter(lambda x: x[\"review_length\"] > 30)\n",
    "print(drug_dataset.num_rows)"
   ]
  },
  {
   "cell_type": "code",
   "execution_count": 25,
   "metadata": {},
   "outputs": [
    {
     "data": {
      "application/vnd.jupyter.widget-view+json": {
       "model_id": "6e673353ac754e16ab0fbbaed531b508",
       "version_major": 2,
       "version_minor": 0
      },
      "text/plain": [
       "Filter:   0%|          | 0/160398 [00:00<?, ? examples/s]"
      ]
     },
     "metadata": {},
     "output_type": "display_data"
    },
    {
     "data": {
      "application/vnd.jupyter.widget-view+json": {
       "model_id": "3a6f7a5ecdaa4263a2a42e10b8b2b315",
       "version_major": 2,
       "version_minor": 0
      },
      "text/plain": [
       "Filter:   0%|          | 0/53471 [00:00<?, ? examples/s]"
      ]
     },
     "metadata": {},
     "output_type": "display_data"
    },
    {
     "name": "stdout",
     "output_type": "stream",
     "text": [
      "{'train': 138514, 'test': 46108}\n"
     ]
    }
   ],
   "source": [
    "drug_dataset = drug_dataset.filter(lambda x: x[\"review_length\"] > 30)\n",
    "print(drug_dataset.num_rows)"
   ]
  },
  {
   "cell_type": "code",
   "execution_count": 29,
   "metadata": {},
   "outputs": [
    {
     "data": {
      "application/vnd.jupyter.widget-view+json": {
       "model_id": "e926fa976d2a4094a2e082457e50d39f",
       "version_major": 2,
       "version_minor": 0
      },
      "text/plain": [
       "Map:   0%|          | 0/138514 [00:00<?, ? examples/s]"
      ]
     },
     "metadata": {},
     "output_type": "display_data"
    },
    {
     "data": {
      "application/vnd.jupyter.widget-view+json": {
       "model_id": "8716b584b5da413abb2f3dc7e6bcb3a6",
       "version_major": 2,
       "version_minor": 0
      },
      "text/plain": [
       "Map:   0%|          | 0/46108 [00:00<?, ? examples/s]"
      ]
     },
     "metadata": {},
     "output_type": "display_data"
    }
   ],
   "source": [
    "import html\n",
    "\n",
    "drug_dataset = drug_dataset.map(lambda x: {\"review\": html.unescape(x[\"review\"])})"
   ]
  },
  {
   "cell_type": "code",
   "execution_count": 28,
   "metadata": {},
   "outputs": [
    {
     "data": {
      "application/vnd.jupyter.widget-view+json": {
       "model_id": "3d30f5fe1a234a61b08da2f6873b641a",
       "version_major": 2,
       "version_minor": 0
      },
      "text/plain": [
       "Map:   0%|          | 0/138514 [00:00<?, ? examples/s]"
      ]
     },
     "metadata": {},
     "output_type": "display_data"
    },
    {
     "data": {
      "application/vnd.jupyter.widget-view+json": {
       "model_id": "a986a0a9ef7a454ca99cc4729dc91893",
       "version_major": 2,
       "version_minor": 0
      },
      "text/plain": [
       "Map:   0%|          | 0/46108 [00:00<?, ? examples/s]"
      ]
     },
     "metadata": {},
     "output_type": "display_data"
    }
   ],
   "source": [
    "new_drug_dataset = drug_dataset.map(\n",
    "    lambda x: {\"review\": [html.unescape(o) for o in x[\"review\"]]}, batched=True\n",
    ")\n"
   ]
  },
  {
   "cell_type": "code",
   "execution_count": 36,
   "metadata": {},
   "outputs": [],
   "source": [
    "from transformers import AutoTokenizer\n",
    "\n",
    "tokenizer = AutoTokenizer.from_pretrained(\"bert-base-cased\")\n",
    "\n",
    "\n",
    "def tokenize_function(examples):\n",
    "    return tokenizer(examples[\"review\"], truncation=True)"
   ]
  },
  {
   "cell_type": "code",
   "execution_count": 38,
   "metadata": {},
   "outputs": [
    {
     "data": {
      "application/vnd.jupyter.widget-view+json": {
       "model_id": "8d12f16ed87c4bc5928acbcd70eadb29",
       "version_major": 2,
       "version_minor": 0
      },
      "text/plain": [
       "Map:   0%|          | 0/46108 [00:00<?, ? examples/s]"
      ]
     },
     "metadata": {},
     "output_type": "display_data"
    },
    {
     "name": "stdout",
     "output_type": "stream",
     "text": [
      "CPU times: total: 8.39 s\n",
      "Wall time: 12.7 s\n"
     ]
    }
   ],
   "source": [
    "%time tokenized_dataset = drug_dataset.map(tokenize_function, batched=True)"
   ]
  },
  {
   "cell_type": "code",
   "execution_count": 40,
   "metadata": {},
   "outputs": [
    {
     "name": "stdout",
     "output_type": "stream",
     "text": [
      "CPU times: total: 31.2 ms\n",
      "Wall time: 46.4 ms\n"
     ]
    }
   ],
   "source": [
    "%time tokenized_dataset = drug_dataset.map(tokenize_function, batched=True)"
   ]
  },
  {
   "cell_type": "code",
   "execution_count": 34,
   "metadata": {},
   "outputs": [
    {
     "data": {
      "application/vnd.jupyter.widget-view+json": {
       "model_id": "f2d1e14bd47f4d8bb063b7fd7402b790",
       "version_major": 2,
       "version_minor": 0
      },
      "text/plain": [
       "Map:   0%|          | 0/138514 [00:00<?, ? examples/s]"
      ]
     },
     "metadata": {},
     "output_type": "display_data"
    },
    {
     "data": {
      "application/vnd.jupyter.widget-view+json": {
       "model_id": "f23704964ac54448b1b932ad79c99b2e",
       "version_major": 2,
       "version_minor": 0
      },
      "text/plain": [
       "Map:   0%|          | 0/46108 [00:00<?, ? examples/s]"
      ]
     },
     "metadata": {},
     "output_type": "display_data"
    },
    {
     "name": "stdout",
     "output_type": "stream",
     "text": [
      "CPU times: total: 49.5 s\n",
      "Wall time: 1min 20s\n"
     ]
    }
   ],
   "source": [
    "%time tokenized_dataset = drug_dataset.map(tokenize_function)"
   ]
  },
  {
   "cell_type": "code",
   "execution_count": 42,
   "metadata": {},
   "outputs": [],
   "source": [
    "slow_tokenizer = AutoTokenizer.from_pretrained(\"bert-base-cased\", use_fast=False)\n",
    "\n",
    "\n",
    "def slow_tokenize_function(examples):\n",
    "    return slow_tokenizer(examples[\"review\"], truncation=True)\n"
   ]
  },
  {
   "cell_type": "code",
   "execution_count": null,
   "metadata": {},
   "outputs": [],
   "source": []
  }
 ],
 "metadata": {
  "kernelspec": {
   "display_name": ".kaggle-env",
   "language": "python",
   "name": "python3"
  },
  "language_info": {
   "codemirror_mode": {
    "name": "ipython",
    "version": 3
   },
   "file_extension": ".py",
   "mimetype": "text/x-python",
   "name": "python",
   "nbconvert_exporter": "python",
   "pygments_lexer": "ipython3",
   "version": "3.11.3"
  }
 },
 "nbformat": 4,
 "nbformat_minor": 2
}
